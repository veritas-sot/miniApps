{
 "cells": [
  {
   "cell_type": "markdown",
   "id": "6d921916-944d-4ca2-a64c-5f24cbd17e84",
   "metadata": {},
   "source": [
    "# Script to decrypted password"
   ]
  },
  {
   "cell_type": "code",
   "execution_count": 1,
   "id": "ebdaf4f7-9c68-462b-9be8-e4e71643d49a",
   "metadata": {},
   "outputs": [],
   "source": [
    "salt=\"my_salt\"\n",
    "encryption_key=\"my_enryptionkey\"\n",
    "iterations=400000"
   ]
  },
  {
   "cell_type": "markdown",
   "id": "bdc6770d-4dfe-4ef1-b602-a93bb835a054",
   "metadata": {},
   "source": [
    "# Set clear password"
   ]
  },
  {
   "cell_type": "code",
   "execution_count": 2,
   "id": "381bb672-532b-4b1a-b06d-088b75ad7ada",
   "metadata": {},
   "outputs": [],
   "source": [
    "token = \"Z0FBQUFBQmxyOWtoZEh0cHJtVExQY1BxT3NreERpVUNTcTlhQnBCVXpUWktlQ3pwSVlzOUctcEx3akhjeGFYMmNtd2FOSkw3eEt6dWFTZGZaYkQxNV83V1locnFpWnlnR0E9PQ==\""
   ]
  },
  {
   "cell_type": "markdown",
   "id": "65614176-2c2f-48f9-bf18-84b41676c3bd",
   "metadata": {},
   "source": [
    "# Basic imports and settings"
   ]
  },
  {
   "cell_type": "code",
   "execution_count": 5,
   "id": "db6f7202-599e-4fb6-b13e-177b3a446731",
   "metadata": {},
   "outputs": [],
   "source": [
    "import veritas.auth"
   ]
  },
  {
   "cell_type": "markdown",
   "id": "1ec30f20-5df4-4ed8-ac9e-893ec8a18512",
   "metadata": {},
   "source": [
    "# Get encrypted password"
   ]
  },
  {
   "cell_type": "code",
   "execution_count": 8,
   "id": "624fc848-5274-4b71-8e7e-eb5835cd0612",
   "metadata": {},
   "outputs": [
    {
     "data": {
      "text/plain": [
       "'my_password'"
      ]
     },
     "execution_count": 8,
     "metadata": {},
     "output_type": "execute_result"
    }
   ],
   "source": [
    "auth = veritas.auth.decrypt(token=token,\n",
    "                            salt=salt, \n",
    "                            encryption_key=encryption_key, \n",
    "                            iterations=int(iterations))\n",
    "auth"
   ]
  },
  {
   "cell_type": "code",
   "execution_count": null,
   "id": "81b9e0b9-a3f4-43b8-a582-8d79973ea970",
   "metadata": {},
   "outputs": [],
   "source": []
  }
 ],
 "metadata": {
  "kernelspec": {
   "display_name": "Python 3 (ipykernel)",
   "language": "python",
   "name": "python3"
  },
  "language_info": {
   "codemirror_mode": {
    "name": "ipython",
    "version": 3
   },
   "file_extension": ".py",
   "mimetype": "text/x-python",
   "name": "python",
   "nbconvert_exporter": "python",
   "pygments_lexer": "ipython3",
   "version": "3.11.7"
  }
 },
 "nbformat": 4,
 "nbformat_minor": 5
}
