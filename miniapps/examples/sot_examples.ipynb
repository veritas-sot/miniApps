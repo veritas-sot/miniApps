{
 "cells": [
  {
   "cell_type": "markdown",
   "id": "49ea4908-d7e6-4617-ad48-c0f12a9ad52a",
   "metadata": {},
   "source": [
    "# Examples of how to make queries"
   ]
  },
  {
   "cell_type": "code",
   "execution_count": null,
   "id": "ac6585f6-4963-4751-a4f2-ee528bf204fa",
   "metadata": {},
   "outputs": [],
   "source": [
    "import json\n",
    "import sys\n",
    "import veritas.logging\n",
    "from veritas.sot import sot as veritas_sot"
   ]
  },
  {
   "cell_type": "code",
   "execution_count": null,
   "id": "8beac838-659c-49e4-bc58-12b7800ec51a",
   "metadata": {},
   "outputs": [],
   "source": [
    "loglevel = \"INFO\""
   ]
  },
  {
   "cell_type": "code",
   "execution_count": null,
   "id": "9cb5bff0-8e9c-4fe9-893b-2b0b65f68b2a",
   "metadata": {},
   "outputs": [],
   "source": [
    "veritas.logging.create_logger_environment(\n",
    "    config={}, \n",
    "    cfg_loglevel=loglevel,\n",
    "    cfg_loghandler=sys.stdout,\n",
    "    app='example',\n",
    "    uuid=None)"
   ]
  },
  {
   "cell_type": "code",
   "execution_count": null,
   "id": "0406076e-7dd0-4320-a4d6-f6b1154b120a",
   "metadata": {},
   "outputs": [],
   "source": [
    "sot = veritas_sot.Sot(url=\"http://127.0.0.1:8080\",\n",
    "                      token=\"_your_token_\",\n",
    "                      ssl_verify=False,\n",
    "                      debug=True)"
   ]
  },
  {
   "cell_type": "markdown",
   "id": "01881f38-ea4c-4dd0-afb5-a08b02178978",
   "metadata": {
    "jp-MarkdownHeadingCollapsed": true
   },
   "source": [
    "# Devices"
   ]
  },
  {
   "cell_type": "markdown",
   "id": "85f1ad79-a575-4aab-a59c-c551eac7b82d",
   "metadata": {},
   "source": [
    "## get all hosts and primary_ip"
   ]
  },
  {
   "cell_type": "code",
   "execution_count": null,
   "id": "2034e5e5-e185-4277-b811-57d9881b26bb",
   "metadata": {},
   "outputs": [],
   "source": [
    "devices = sot.select('hostname, primary_ip4') \\\n",
    "             .using('nb.devices') \\\n",
    "             .where()\n",
    "devices"
   ]
  },
  {
   "cell_type": "markdown",
   "id": "98df83fd-9819-4c67-92d5-350ee01fe180",
   "metadata": {},
   "source": [
    "## get id, hostname and custom fields of a host\n",
    "All 'custom fields' are returned because GraphQL does not offer the option of selecting just a custom field."
   ]
  },
  {
   "cell_type": "code",
   "execution_count": null,
   "id": "1f3eb646-73b0-45c5-a293-26846e1288cf",
   "metadata": {},
   "outputs": [],
   "source": [
    "devices = sot.select('id, hostname, cf_net') \\\n",
    "             .using('nb.devices') \\\n",
    "             .where('name=lab-02.local')\n",
    "devices"
   ]
  },
  {
   "cell_type": "markdown",
   "id": "ed0644ee-eaef-4275-8f2f-048b1353f76e",
   "metadata": {},
   "source": [
    "## Get all hosts whose name contains the word 'local'"
   ]
  },
  {
   "cell_type": "code",
   "execution_count": null,
   "id": "bb53886f-9878-4634-9d19-0dd52ed6410e",
   "metadata": {},
   "outputs": [],
   "source": [
    "devices = sot.select('hostname') \\\n",
    "             .using('nb.devices') \\\n",
    "             .where('name__ic=local')\n",
    "devices"
   ]
  },
  {
   "cell_type": "markdown",
   "id": "ccb771d4-49da-4479-8f75-ab1f3e9ebada",
   "metadata": {},
   "source": [
    "## get id and hostname of multiple hosts (using logical or)"
   ]
  },
  {
   "cell_type": "code",
   "execution_count": null,
   "id": "59ad8633-dc68-44ae-9c57-a001aeb9e796",
   "metadata": {},
   "outputs": [],
   "source": [
    "devices = sot.select('id, hostname') \\\n",
    "             .using('nb.devices') \\\n",
    "             .where('name=lab-02.local or name=lab-04.local')\n",
    "devices"
   ]
  },
  {
   "cell_type": "markdown",
   "id": "e57ac7b7-9a95-4c6e-9bb0-536e9bda8219",
   "metadata": {},
   "source": [
    "## get id and hostname of multiple hosts (using list)\n",
    "Note: You can use a list but do not use a where clause like .where('name=['xxx','yyy']'). That does **not** work"
   ]
  },
  {
   "cell_type": "code",
   "execution_count": null,
   "id": "c48a7bf9-3d63-4460-9250-677975852e43",
   "metadata": {},
   "outputs": [],
   "source": [
    "devices = sot.select('id, hostname') \\\n",
    "             .using('nb.devices') \\\n",
    "             .where(name=['lab-02.local', 'lab-04.local'])\n",
    "devices"
   ]
  },
  {
   "cell_type": "markdown",
   "id": "26b6bd7f-6ae6-4548-bf9e-d933d63110cb",
   "metadata": {},
   "source": [
    "## get all hosts of a location"
   ]
  },
  {
   "cell_type": "code",
   "execution_count": null,
   "id": "214113f0-d1a4-4a23-8f3f-687e109ed529",
   "metadata": {},
   "outputs": [],
   "source": [
    "devices = sot.select('hostname') \\\n",
    "             .using('nb.devices') \\\n",
    "             .where('location=office')\n",
    "devices"
   ]
  },
  {
   "cell_type": "markdown",
   "id": "f67dccbb-0ca3-4c07-ac7c-7a9575293b62",
   "metadata": {},
   "source": [
    "## get all hosts of two locations"
   ]
  },
  {
   "cell_type": "code",
   "execution_count": null,
   "id": "0552979d-5f0a-4f9f-95b3-84e68b59e399",
   "metadata": {},
   "outputs": [],
   "source": [
    "devices = sot.select('hostname') \\\n",
    "             .using('nb.devices') \\\n",
    "             .where('location=office or location=office')\n",
    "devices"
   ]
  },
  {
   "cell_type": "markdown",
   "id": "a66faeed-ea43-4716-af34-dd51225ec972",
   "metadata": {},
   "source": [
    "## get hosts with cf_net=testnet and platform=ios‚"
   ]
  },
  {
   "cell_type": "code",
   "execution_count": null,
   "id": "c6ecc459-5e3a-4f41-b254-08efa09a3087",
   "metadata": {},
   "outputs": [],
   "source": [
    "devices = sot.select('hostname') \\\n",
    "             .using('nb.devices') \\\n",
    "             .where('cf_net=testnet and platform=ios')\n",
    "devices"
   ]
  },
  {
   "cell_type": "markdown",
   "id": "141810ec-f108-40d8-a458-b4ba65158524",
   "metadata": {},
   "source": [
    "## get hosts using multiple (but different) cf_fields (or)"
   ]
  },
  {
   "cell_type": "code",
   "execution_count": null,
   "id": "2c3b9c88-0944-46c4-ab14-dae361fcc8bf",
   "metadata": {},
   "outputs": [],
   "source": [
    "devices = sot.select('hostname') \\\n",
    "             .using('nb.devices') \\\n",
    "             .where('cf_net=testnet or cf_snmp_credentials=cred-1')\n",
    "devices"
   ]
  },
  {
   "cell_type": "markdown",
   "id": "23ebd946-0e0f-407b-ad6a-4340ce4cf401",
   "metadata": {},
   "source": [
    "## get all hosts with a certain role"
   ]
  },
  {
   "cell_type": "code",
   "execution_count": null,
   "id": "3bfb33f0-b35d-40b2-bf6c-5d92c9963778",
   "metadata": {},
   "outputs": [],
   "source": [
    "devices = sot.select('hostname') \\\n",
    "             .using('nb.devices') \\\n",
    "             .where('role=network')\n",
    "devices"
   ]
  },
  {
   "cell_type": "markdown",
   "id": "1aa78320-136f-4a3c-aa47-86b43ec5e70b",
   "metadata": {},
   "source": [
    "## get all hosts with a certain device type"
   ]
  },
  {
   "cell_type": "code",
   "execution_count": null,
   "id": "f2983d23-ee95-4ba7-b1b7-f78081a23334",
   "metadata": {},
   "outputs": [],
   "source": [
    "devices = sot.select('hostname') \\\n",
    "             .using('nb.devices') \\\n",
    "             .where('device_type=iosv')\n",
    "devices"
   ]
  },
  {
   "cell_type": "markdown",
   "id": "f9e73da2-37ed-40de-9525-588da7ab4eb1",
   "metadata": {},
   "source": [
    "## You can convert the data to a pandas dataframe"
   ]
  },
  {
   "cell_type": "code",
   "execution_count": null,
   "id": "69952151-17b8-4e21-9b07-89f26fb3b620",
   "metadata": {},
   "outputs": [],
   "source": [
    "devices = sot.select('device_id, hostname, platform, device_type') \\\n",
    "             .using('nb.devices') \\\n",
    "             .reformat('devices_as_pandas') \\\n",
    "             .where()\n",
    "display(devices)"
   ]
  },
  {
   "cell_type": "markdown",
   "id": "e3a70540-e013-4224-8659-169bcfda9f96",
   "metadata": {
    "jp-MarkdownHeadingCollapsed": true
   },
   "source": [
    "# Interfaces"
   ]
  },
  {
   "cell_type": "markdown",
   "id": "1ae96bc9-3f7b-4c80-96cf-28da38d1a266",
   "metadata": {
    "jp-MarkdownHeadingCollapsed": true
   },
   "source": [
    "## get all hosts with a certain interface name\n",
    "The parameter 'interfaces_name_' is a **subquery** of the device"
   ]
  },
  {
   "cell_type": "code",
   "execution_count": null,
   "id": "f4cb18d0-aedf-43bc-b2ee-ca5149b92f33",
   "metadata": {},
   "outputs": [],
   "source": [
    "devices = sot.select('hostname, interfaces') \\\n",
    "             .using('nb.devices') \\\n",
    "             .where('interfaces_name__ic=gigabit')\n",
    "devices"
   ]
  },
  {
   "cell_type": "code",
   "execution_count": null,
   "id": "c26eaff3-d92e-4553-b4b7-079dad053e5a",
   "metadata": {},
   "outputs": [],
   "source": []
  },
  {
   "cell_type": "code",
   "execution_count": null,
   "id": "173d6e4e-bd91-4be4-a1e3-5932df9699f5",
   "metadata": {},
   "outputs": [],
   "source": []
  },
  {
   "cell_type": "markdown",
   "id": "20f0a1ed-7cee-4f7c-9723-521cfd3743be",
   "metadata": {
    "jp-MarkdownHeadingCollapsed": true
   },
   "source": [
    "# Prefixes"
   ]
  },
  {
   "cell_type": "markdown",
   "id": "a7b9a0bf-bd7d-448f-a472-1381ac4591bd",
   "metadata": {},
   "source": [
    "## get all prefixes with description, vlan and location"
   ]
  },
  {
   "cell_type": "code",
   "execution_count": null,
   "id": "12a1b03a-487a-48c6-b4b8-2f1889f65c0c",
   "metadata": {},
   "outputs": [],
   "source": [
    "prefixes = sot.select('prefix, description, vlan, location') \\\n",
    "             .using('nb.prefixes') \\\n",
    "             .where()\n",
    "prefixes"
   ]
  },
  {
   "cell_type": "markdown",
   "id": "a33ca491-5ad4-4f71-aab3-94dd2c73a6fa",
   "metadata": {},
   "source": [
    "## get all prefixes within a specififc range"
   ]
  },
  {
   "cell_type": "code",
   "execution_count": null,
   "id": "daf64229-1fc8-4779-b844-0eb2f8041224",
   "metadata": {},
   "outputs": [],
   "source": [
    "prefixes = sot.select('prefix, description') \\\n",
    "              .using('nb.prefixes') \\\n",
    "              .where('within_include=172.16.0.0/16')\n",
    "prefixes"
   ]
  },
  {
   "cell_type": "markdown",
   "id": "a91e2ce2-e629-419f-ab95-594bce65d8e2",
   "metadata": {},
   "source": [
    "## get all prefixes within a specififc range and with a specific role"
   ]
  },
  {
   "cell_type": "code",
   "execution_count": null,
   "id": "fd0272eb-5cf5-4a05-a712-7db21cf48c2e",
   "metadata": {},
   "outputs": [],
   "source": [
    "prefixes = sot.select('prefix, description') \\\n",
    "              .using('nb.prefixes') \\\n",
    "              .where('within_include=\"172.16.0.0/16\" and role=prefix_role')\n",
    "prefixes"
   ]
  },
  {
   "cell_type": "markdown",
   "id": "eadaf138-ba3c-4441-9683-72408e39ac70",
   "metadata": {},
   "source": [
    "## get all prefixes with scan_prefix=True"
   ]
  },
  {
   "cell_type": "code",
   "execution_count": null,
   "id": "b6671001-201b-4585-aa0f-2e51f7ccb2ad",
   "metadata": {},
   "outputs": [],
   "source": [
    "prefixes = sot.select('prefix') \\\n",
    "              .using('nb.prefixes') \\\n",
    "              .where('cf_scan_prefix=True')\n",
    "prefixes"
   ]
  },
  {
   "cell_type": "markdown",
   "id": "90710ad7-f8c1-4e05-8d98-fd35eaca4f6f",
   "metadata": {},
   "source": [
    "## get all prefixes within a specific range and with scan_prefix True"
   ]
  },
  {
   "cell_type": "code",
   "execution_count": null,
   "id": "d1d07395-39b8-4dbb-85e4-80d989719851",
   "metadata": {},
   "outputs": [],
   "source": [
    "prefixes = sot.select('prefix') \\\n",
    "              .using('nb.prefixes') \\\n",
    "              .where('within_include=\"172.16.0.0/16\" and cf_scan_prefix=True')\n",
    "prefixes"
   ]
  },
  {
   "cell_type": "markdown",
   "id": "0a459a17-b703-4fa3-a885-47eb58f9e5e6",
   "metadata": {
    "jp-MarkdownHeadingCollapsed": true
   },
   "source": [
    "# IP addresses"
   ]
  },
  {
   "cell_type": "markdown",
   "id": "90f5ce91-08ef-47e7-a8da-ab65478cc8fd",
   "metadata": {},
   "source": [
    "## get hostname, device_type, role and primary_ip of the host with IP=192.168.0.1"
   ]
  },
  {
   "cell_type": "code",
   "execution_count": null,
   "id": "f5e6ef70-eccd-4287-b0cb-315bc3ef7531",
   "metadata": {},
   "outputs": [],
   "source": [
    "devices = sot.select('address, device_type, role, primary_ip4') \\\n",
    "             .using('nb.ipaddresses') \\\n",
    "             .where('address=192.168.0.1')\n",
    "devices"
   ]
  },
  {
   "cell_type": "markdown",
   "id": "2edf79d1-7fda-490f-9f7c-412360108bb8",
   "metadata": {},
   "source": [
    "## get address, hostname, device_type, role and primary_ip of device within prefix 192.168.0.0/24"
   ]
  },
  {
   "cell_type": "code",
   "execution_count": null,
   "id": "51349fa5-a7b2-4796-b9a2-8c408e2e322c",
   "metadata": {},
   "outputs": [],
   "source": [
    "devices = sot.select('address, hostname, device_type, role, primary_ip4_for') \\\n",
    "             .using('nb.ipaddresses') \\\n",
    "             .where('prefix=192.168.0.0/24')\n",
    "devices"
   ]
  },
  {
   "cell_type": "markdown",
   "id": "33bffcea-92f1-4c76-9fdd-8f411f2adae6",
   "metadata": {},
   "source": [
    "### you can use .transform('ipaddress_to_device') to get a list of devices\n",
    "To get this list you have to add 'primary_ip4_for' to the selected values"
   ]
  },
  {
   "cell_type": "code",
   "execution_count": null,
   "id": "8b27d98c-be2d-4c75-8084-05b5c10f760a",
   "metadata": {},
   "outputs": [],
   "source": [
    "devices = sot.select('hostname, address, parent, primary_ip4_for, primary_ip4') \\\n",
    "             .using('nb.ipaddresses') \\\n",
    "             .transform(['ipaddress_to_device']) \\\n",
    "             .where('prefix=192.168.0.0/24')\n",
    "devices"
   ]
  },
  {
   "cell_type": "markdown",
   "id": "ac1334c6-7159-4aa8-979e-3d8ce54d9cb6",
   "metadata": {},
   "source": [
    "## get all IP-addresses of a device"
   ]
  },
  {
   "cell_type": "code",
   "execution_count": null,
   "id": "a19c96af-c805-44b4-8d46-8c2d3b3bd473",
   "metadata": {},
   "outputs": [],
   "source": [
    "devices = sot.select('address') \\\n",
    "             .using('nb.ipaddresses') \\\n",
    "             .where('device=lab-02.local')\n",
    "devices"
   ]
  },
  {
   "cell_type": "markdown",
   "id": "4180f229-7a6b-478f-9d1e-8938f7670241",
   "metadata": {},
   "source": [
    "## get all hosts where the IP address is of type host"
   ]
  },
  {
   "cell_type": "code",
   "execution_count": null,
   "id": "114c21b8-c9a6-46d5-a6c7-76f83fbe082f",
   "metadata": {},
   "outputs": [],
   "source": [
    "devices = sot.select('hostname, primary_ip4_for') \\\n",
    "             .using('nb.ipaddresses') \\\n",
    "             .where('type__ic=host')\n",
    "devices"
   ]
  },
  {
   "cell_type": "markdown",
   "id": "02725973-9f4e-469f-86c0-ee383e7e6d20",
   "metadata": {
    "jp-MarkdownHeadingCollapsed": true
   },
   "source": [
    "# VLANS"
   ]
  },
  {
   "cell_type": "markdown",
   "id": "3942ed1e-b0a6-41ce-93b5-0d26bc70fdff",
   "metadata": {
    "jp-MarkdownHeadingCollapsed": true
   },
   "source": [
    "## get all vlans"
   ]
  },
  {
   "cell_type": "code",
   "execution_count": null,
   "id": "c06b1a84-dc19-4133-99a9-07e4e576aa0d",
   "metadata": {},
   "outputs": [],
   "source": [
    "vlans = sot.select('vid, name, location') \\\n",
    "           .using('nb.vlans') \\\n",
    "           .where()\n",
    "vlans"
   ]
  },
  {
   "cell_type": "markdown",
   "id": "8a669069-1e3a-4d5b-87ee-38de3fe2edc2",
   "metadata": {},
   "source": [
    "## get all vlans of a specific location"
   ]
  },
  {
   "cell_type": "code",
   "execution_count": null,
   "id": "77568882-28f3-49bf-a172-2c0d091cf9cd",
   "metadata": {},
   "outputs": [],
   "source": [
    "vlans = sot.select('vid, location') \\\n",
    "           .using('nb.vlans') \\\n",
    "           .where('location=office')\n",
    "vlans"
   ]
  },
  {
   "cell_type": "markdown",
   "id": "c548094d-a314-45e8-a2da-df3dc3ca6e6e",
   "metadata": {
    "jp-MarkdownHeadingCollapsed": true
   },
   "source": [
    "# General"
   ]
  },
  {
   "cell_type": "markdown",
   "id": "7fde2970-25f7-43cf-beaa-36847e6b4701",
   "metadata": {},
   "source": [
    "## get ALL locations of our SOT"
   ]
  },
  {
   "cell_type": "code",
   "execution_count": null,
   "id": "ec3d851c-522a-4dc2-b153-8f7efd3bf9a2",
   "metadata": {},
   "outputs": [],
   "source": [
    "locations = sot.select('locations') \\\n",
    "               .using('nb.general') \\\n",
    "               .where()\n",
    "locations"
   ]
  },
  {
   "cell_type": "markdown",
   "id": "a666e80d-8a4a-442e-8937-d4dcb04200a0",
   "metadata": {},
   "source": [
    "## get ALL tags of our SOT"
   ]
  },
  {
   "cell_type": "code",
   "execution_count": null,
   "id": "53e5b153-f1d9-4286-8fa0-69e15a96c6da",
   "metadata": {},
   "outputs": [],
   "source": [
    "tags = sot.select('tags') \\\n",
    "          .using('nb.general') \\\n",
    "          .where()\n",
    "tags"
   ]
  },
  {
   "cell_type": "markdown",
   "id": "48b5eb18-458c-41ba-b05d-f6849d3f826c",
   "metadata": {},
   "source": [
    "## get dhcp tag"
   ]
  },
  {
   "cell_type": "code",
   "execution_count": null,
   "id": "d7f1cc9e-c9db-44f9-b486-260ecc1466b4",
   "metadata": {},
   "outputs": [],
   "source": [
    "tag = sot.select('tags') \\\n",
    "         .using('nb.general') \\\n",
    "         .where('name=dhcp')\n",
    "tag"
   ]
  },
  {
   "cell_type": "markdown",
   "id": "ee8fa05d-c26e-4631-80d9-25a58b6b7efd",
   "metadata": {
    "jp-MarkdownHeadingCollapsed": true
   },
   "source": [
    "# HLDM"
   ]
  },
  {
   "cell_type": "markdown",
   "id": "847f63d3-ad56-4426-a46d-7930620c0516",
   "metadata": {
    "jp-MarkdownHeadingCollapsed": true
   },
   "source": [
    "## get HLDM of device"
   ]
  },
  {
   "cell_type": "code",
   "execution_count": null,
   "id": "29527ac9-7185-416c-abd8-af9e18fa3305",
   "metadata": {},
   "outputs": [],
   "source": [
    "hldm = sot.get.hldm(device=\"lab-02.local\")\n",
    "hldm"
   ]
  },
  {
   "cell_type": "markdown",
   "id": "cfdc1b0f-24dc-42e9-a23f-ce5e666f1763",
   "metadata": {
    "jp-MarkdownHeadingCollapsed": true
   },
   "source": [
    "# Join two queries\n",
    "You can join two tables. The use the table name in the select statement to distinguish between the two tables.\n",
    "The join parameter defines the RIGHT table of the join. The on parameter specifies the two parameter that must be equal. Use the dotted syntax to get the 'path' to your column."
   ]
  },
  {
   "cell_type": "code",
   "execution_count": null,
   "id": "088166d4-c0d7-47bc-b507-f28474d61966",
   "metadata": {},
   "outputs": [],
   "source": [
    "vlans = sot.select('vlans.vid, vlans.name, vlans.interfaces_as_tagged, devices.name, devices.platform') \\\n",
    "           .using('nb.vlans as vlans') \\\n",
    "           .join('nb.devices as devices') \\\n",
    "           .on('vlans.interfaces_as_tagged[0].device.id = devices.id') \\\n",
    "           .where('vlans.vid=100')\n",
    "display(vlans)"
   ]
  },
  {
   "cell_type": "markdown",
   "id": "c9a96434-f20e-4962-ab18-ccabb9685a93",
   "metadata": {},
   "source": [
    "## you can transform the result to a pandas dataframe\n",
    "'transform' takes a list of strings and transforms them according to the given order."
   ]
  },
  {
   "cell_type": "code",
   "execution_count": null,
   "id": "3184e10d-da88-4821-ac06-b0f6b5ac7da7",
   "metadata": {},
   "outputs": [],
   "source": [
    "vlans = sot.select('vlans.vid, vlans.name, vlans.interfaces_as_tagged, devices.name, devices.platform') \\\n",
    "           .using('nb.vlans as vlans') \\\n",
    "           .join('nb.devices as devices') \\\n",
    "           .on('vlans.interfaces_as_tagged[0].device.id = devices.id') \\\n",
    "           .transform(['remove_id', 'to_pandas']) \\\n",
    "           .where('vlans.vid=100')\n",
    "display(vlans)"
   ]
  },
  {
   "cell_type": "markdown",
   "id": "4038fd6c-bbe5-4c36-9d65-cbb9d7c9918b",
   "metadata": {},
   "source": [
    "## you can return the list of selected values by using the transformation 'values_only'"
   ]
  },
  {
   "cell_type": "code",
   "execution_count": null,
   "id": "affd8c89-3725-42ac-9fdf-d9f93232c30c",
   "metadata": {},
   "outputs": [],
   "source": [
    "vlans = sot.select('vlans.vid, vlans.name, vlans.interfaces_as_tagged, devices.name, devices.platform') \\\n",
    "           .using('nb.vlans as vlans') \\\n",
    "           .join('nb.devices as devices') \\\n",
    "           .on('vlans.interfaces_as_tagged[0].device.id = devices.id') \\\n",
    "           .transform(['remove_id', 'values_only']) \\\n",
    "           .where('vlans.vid=100')\n",
    "display(vlans)"
   ]
  }
 ],
 "metadata": {
  "kernelspec": {
   "display_name": "Python 3 (ipykernel)",
   "language": "python",
   "name": "python3"
  },
  "language_info": {
   "codemirror_mode": {
    "name": "ipython",
    "version": 3
   },
   "file_extension": ".py",
   "mimetype": "text/x-python",
   "name": "python",
   "nbconvert_exporter": "python",
   "pygments_lexer": "ipython3",
   "version": "3.11.7"
  }
 },
 "nbformat": 4,
 "nbformat_minor": 5
}
