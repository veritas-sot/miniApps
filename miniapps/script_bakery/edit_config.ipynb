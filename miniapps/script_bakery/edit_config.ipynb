{
 "cells": [
  {
   "cell_type": "markdown",
   "id": "c3382f1b-f710-4a5c-b111-9de509683d51",
   "metadata": {},
   "source": [
    "# Notebook to edit a device config\n",
    "___To use this notebook...___\n",
    "1. configure your username and password\n",
    "2. configure IP or hostname of the device you want to configure\n",
    "3. If you want to see some more DEBUG messages set loglevel to DEBUG (optional)"
   ]
  },
  {
   "cell_type": "markdown",
   "id": "92b1781b-054a-413f-83fb-393c7754915c",
   "metadata": {},
   "source": [
    "### define your login and set backup Directory"
   ]
  },
  {
   "cell_type": "code",
   "execution_count": null,
   "id": "4ba8147e-8f6a-4012-b669-b4c8aeb3e342",
   "metadata": {},
   "outputs": [],
   "source": [
    "username = \"username\"\n",
    "password = \"password\""
   ]
  },
  {
   "cell_type": "markdown",
   "id": "443c5896-2601-44b9-b4c0-26725fcd568f",
   "metadata": {},
   "source": [
    "### on which device do you want to change the configuration?"
   ]
  },
  {
   "cell_type": "code",
   "execution_count": null,
   "id": "4c9d35d3-b791-4871-8e89-2525d124e450",
   "metadata": {},
   "outputs": [],
   "source": [
    "device = \"ip_address\""
   ]
  },
  {
   "cell_type": "markdown",
   "id": "50e97849-ebb6-49db-95d8-2f6afddefe54",
   "metadata": {},
   "source": [
    "### set loglevel"
   ]
  },
  {
   "cell_type": "code",
   "execution_count": null,
   "id": "8aa9f7a8-59ed-43cb-bb7f-ce29617b0da2",
   "metadata": {},
   "outputs": [],
   "source": [
    "loglevel = \"INFO\""
   ]
  },
  {
   "cell_type": "markdown",
   "id": "38d92329-91ad-475f-9c2b-d2e2b42af904",
   "metadata": {},
   "source": [
    "### The directory where we store the configurations"
   ]
  },
  {
   "cell_type": "code",
   "execution_count": null,
   "id": "eaa4d595-7cd8-4a98-b748-58b7089e875b",
   "metadata": {},
   "outputs": [],
   "source": [
    "config_directory = \"./device_configs\""
   ]
  },
  {
   "cell_type": "markdown",
   "id": "6c8b79d7-0e15-4806-8059-d80268b2c4a9",
   "metadata": {
    "jp-MarkdownHeadingCollapsed": true
   },
   "source": [
    "# Basic setup .. import, logging and so on"
   ]
  },
  {
   "cell_type": "code",
   "execution_count": null,
   "id": "4a6738ca-f3bf-43d6-880f-b38aeb33c553",
   "metadata": {},
   "outputs": [],
   "source": [
    "import sys\n",
    "import difflib\n",
    "import os\n",
    "from loguru import logger\n",
    "from veritas.devicemanagement import scrapli as dm\n",
    "from IPython.display import display, HTML"
   ]
  },
  {
   "cell_type": "code",
   "execution_count": null,
   "id": "4c8962dd-bb45-4caa-b532-89a0382b7925",
   "metadata": {},
   "outputs": [],
   "source": [
    "logger.configure(extra={\"extra\": \"unset\"})\n",
    "logger.remove()\n",
    "logger.add(sys.stderr, level=loglevel)"
   ]
  },
  {
   "cell_type": "markdown",
   "id": "ad95fa0c-d5ed-43af-9afa-6bfdfa889b2d",
   "metadata": {
    "jp-MarkdownHeadingCollapsed": true
   },
   "source": [
    "# Connect to device\n",
    "Change platform, manufacturer and ssh port if neede"
   ]
  },
  {
   "cell_type": "code",
   "execution_count": null,
   "id": "5a14a9f3-b5e0-49a8-95f9-c83c5c3d054b",
   "metadata": {},
   "outputs": [],
   "source": [
    "conn = dm.Devicemanagement(ip=device,\n",
    "                           platform=\"ios\",\n",
    "                           manufacturer=\"cisco\",\n",
    "                           username=username,\n",
    "                           password=password,\n",
    "                           port=22)\n",
    "conn.open()"
   ]
  },
  {
   "cell_type": "markdown",
   "id": "fbc3546d-eeac-4cb4-8fd7-cad6a9868d9e",
   "metadata": {},
   "source": [
    "# get running-config"
   ]
  },
  {
   "cell_type": "code",
   "execution_count": null,
   "id": "adcf56b6-832b-4e52-932b-d5f041accf3e",
   "metadata": {},
   "outputs": [],
   "source": [
    "running_config = conn.get_config('running')"
   ]
  },
  {
   "cell_type": "markdown",
   "id": "29c4442d-c33a-4a2a-bc6b-59f0049f8782",
   "metadata": {},
   "source": [
    "## If you want to see the config run the next cell"
   ]
  },
  {
   "cell_type": "code",
   "execution_count": null,
   "id": "58e604d3-818d-4f5a-b7e3-2dcc9ec06df2",
   "metadata": {},
   "outputs": [],
   "source": [
    "print(running_config)"
   ]
  },
  {
   "cell_type": "markdown",
   "id": "d3c7f9c3-ff77-49ac-9455-5122e5d9844c",
   "metadata": {},
   "source": [
    "## Write config to disk"
   ]
  },
  {
   "cell_type": "code",
   "execution_count": null,
   "id": "24c62d71-bb84-453f-87a7-7820c003b303",
   "metadata": {
    "jupyter": {
     "source_hidden": true
    }
   },
   "outputs": [],
   "source": [
    "config_file = f'./{config_directory}/{device}.config'\n",
    "directory = os.path.dirname(config_file)\n",
    "if not os.path.exists(directory):\n",
    "    logger.debug(f'creating {directory}')\n",
    "    os.makedirs(directory)\n",
    "with open(config_file, 'w') as f:\n",
    "    f.write(running_config)"
   ]
  },
  {
   "cell_type": "markdown",
   "id": "b6d72e42-02e5-4247-9fc3-3da58a4dd0b7",
   "metadata": {
    "editable": true,
    "slideshow": {
     "slide_type": ""
    },
    "tags": []
   },
   "source": [
    "# Now open config in new tab and edit it. Don't forget to save it after you did your modifications."
   ]
  },
  {
   "cell_type": "markdown",
   "id": "c8b9f351-84eb-48b6-aa18-7184253f82fa",
   "metadata": {},
   "source": [
    "# Update config"
   ]
  },
  {
   "cell_type": "markdown",
   "id": "dafc0831-7157-4d31-9b8d-160b94ee2150",
   "metadata": {},
   "source": [
    "## load config before we replace it"
   ]
  },
  {
   "cell_type": "code",
   "execution_count": null,
   "id": "0772c12f-072d-42a1-9042-ba686e33bdb5",
   "metadata": {},
   "outputs": [],
   "source": [
    "with open(config_file, 'r') as f:\n",
    "   new_config = f.read()"
   ]
  },
  {
   "cell_type": "markdown",
   "id": "03317317-ab61-4270-8eb7-ffaf06de7f13",
   "metadata": {},
   "source": [
    "### check if config is okay (optional)"
   ]
  },
  {
   "cell_type": "code",
   "execution_count": null,
   "id": "113f7e3c-ab7d-4017-931f-b0317e0790e0",
   "metadata": {
    "editable": true,
    "slideshow": {
     "slide_type": ""
    },
    "tags": []
   },
   "outputs": [],
   "source": [
    "print(new_config)"
   ]
  },
  {
   "cell_type": "markdown",
   "id": "28858631-cdb8-49eb-91f5-9806b2b3dd18",
   "metadata": {},
   "source": [
    "## prepare session and upload config\n",
    "replace=True means that the complete config will be replaced. ___If you only have a part of the configuration, you have to set the parameter to False.___"
   ]
  },
  {
   "cell_type": "code",
   "execution_count": null,
   "id": "1a8871cf-4664-47e7-856e-362708d7cf23",
   "metadata": {},
   "outputs": [],
   "source": [
    "conn.prepare()\n",
    "conn.load_config(config=new_config, replace=True)"
   ]
  },
  {
   "cell_type": "markdown",
   "id": "b675162b-2a95-4194-95bd-313fb1622ffa",
   "metadata": {},
   "source": [
    "### show diff between running and your new config (optional)"
   ]
  },
  {
   "cell_type": "code",
   "execution_count": null,
   "id": "6f339b74-2010-4638-a30c-aee8cdb86a68",
   "metadata": {
    "editable": true,
    "slideshow": {
     "slide_type": ""
    },
    "tags": []
   },
   "outputs": [],
   "source": [
    "diff_result = conn.diff_config()\n",
    "print(diff_result.device_diff)"
   ]
  },
  {
   "cell_type": "markdown",
   "id": "06090da7-4fad-46fc-8ec1-9d605157d624",
   "metadata": {},
   "source": [
    "## Everything correct? Than commit the config change"
   ]
  },
  {
   "cell_type": "code",
   "execution_count": null,
   "id": "4b98e439-58b1-4175-9f4b-4cfe1f28cbab",
   "metadata": {
    "editable": true,
    "slideshow": {
     "slide_type": ""
    },
    "tags": []
   },
   "outputs": [],
   "source": [
    "conn.commit_config()"
   ]
  },
  {
   "cell_type": "markdown",
   "id": "cc0cb839-9e59-43fd-b9c1-fb9794e8bd21",
   "metadata": {},
   "source": [
    "## otherwise abort the config change"
   ]
  },
  {
   "cell_type": "code",
   "execution_count": null,
   "id": "61ddc482-4aa5-4619-a75e-78406e4a5141",
   "metadata": {},
   "outputs": [],
   "source": [
    "conn.abort_config()"
   ]
  },
  {
   "cell_type": "markdown",
   "id": "c699bbeb-161e-4a81-b2e2-51c799d3bf7b",
   "metadata": {},
   "source": [
    "## clean up"
   ]
  },
  {
   "cell_type": "code",
   "execution_count": null,
   "id": "2167785c-4aba-4507-87f3-3528f65498ca",
   "metadata": {
    "editable": true,
    "slideshow": {
     "slide_type": ""
    },
    "tags": []
   },
   "outputs": [],
   "source": [
    "conn.cleanup()"
   ]
  }
 ],
 "metadata": {
  "kernelspec": {
   "display_name": "Python 3 (ipykernel)",
   "language": "python",
   "name": "python3"
  },
  "language_info": {
   "codemirror_mode": {
    "name": "ipython",
    "version": 3
   },
   "file_extension": ".py",
   "mimetype": "text/x-python",
   "name": "python",
   "nbconvert_exporter": "python",
   "pygments_lexer": "ipython3",
   "version": "3.11.7"
  }
 },
 "nbformat": 4,
 "nbformat_minor": 5
}
