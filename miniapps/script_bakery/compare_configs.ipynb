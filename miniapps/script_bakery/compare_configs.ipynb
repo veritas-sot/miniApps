{
 "cells": [
  {
   "cell_type": "markdown",
   "id": "c3382f1b-f710-4a5c-b111-9de509683d51",
   "metadata": {},
   "source": [
    "# Notebook to compare configs of device(s)\n",
    "___To use this notebook...___\n",
    "1. configure your username and password\n",
    "2. set backup_dir ir get_config_from_device to get configs from devices\n",
    "3. set where statement to get the list of devices\n",
    "4. configure token to access the sot\n",
    "5. If you want to see some more DEBUG messages set loglevel to DEBUG (optional)"
   ]
  },
  {
   "cell_type": "markdown",
   "id": "92b1781b-054a-413f-83fb-393c7754915c",
   "metadata": {},
   "source": [
    "### define your login and set backup Directory"
   ]
  },
  {
   "cell_type": "code",
   "execution_count": null,
   "id": "4ba8147e-8f6a-4012-b669-b4c8aeb3e342",
   "metadata": {},
   "outputs": [],
   "source": [
    "username = \"username\"\n",
    "password = \"password\""
   ]
  },
  {
   "cell_type": "markdown",
   "id": "c00db50b-9e97-499b-afc1-8576520aabe8",
   "metadata": {},
   "source": [
    "### use backup_dir or get configs from device"
   ]
  },
  {
   "cell_type": "code",
   "execution_count": null,
   "id": "6bbcd05b-393d-4435-ad46-d6724737b479",
   "metadata": {},
   "outputs": [],
   "source": [
    "get_config_from_device=True\n",
    "ssh_port=22\n",
    "backup_dir = \"/Users/marc/Programming/network-automation/device_configs\""
   ]
  },
  {
   "cell_type": "markdown",
   "id": "443c5896-2601-44b9-b4c0-26725fcd568f",
   "metadata": {},
   "source": [
    "### on which devices should the configs be compared"
   ]
  },
  {
   "cell_type": "code",
   "execution_count": null,
   "id": "4c9d35d3-b791-4871-8e89-2525d124e450",
   "metadata": {},
   "outputs": [],
   "source": [
    "where = \"name=lab.local\""
   ]
  },
  {
   "cell_type": "markdown",
   "id": "fe404cb8-2023-4f92-83bb-ad7b1be94150",
   "metadata": {},
   "source": [
    "### configure our SOT"
   ]
  },
  {
   "cell_type": "code",
   "execution_count": null,
   "id": "06d631be-9b46-4dda-872f-c61918b3a2eb",
   "metadata": {},
   "outputs": [],
   "source": [
    "token = \"your_token\"\n",
    "url = \"http://127.0.0.1:8080\"\n",
    "ssl_verify = False"
   ]
  },
  {
   "cell_type": "markdown",
   "id": "50e97849-ebb6-49db-95d8-2f6afddefe54",
   "metadata": {},
   "source": [
    "### set loglevel"
   ]
  },
  {
   "cell_type": "code",
   "execution_count": null,
   "id": "8aa9f7a8-59ed-43cb-bb7f-ce29617b0da2",
   "metadata": {},
   "outputs": [],
   "source": [
    "loglevel = \"CRITICAL\"\n",
    "scrapli_loglevel = \"NONE\""
   ]
  },
  {
   "cell_type": "markdown",
   "id": "6c8b79d7-0e15-4806-8059-d80268b2c4a9",
   "metadata": {
    "jp-MarkdownHeadingCollapsed": true
   },
   "source": [
    "# Basic setup .. import, logging and so on"
   ]
  },
  {
   "cell_type": "code",
   "execution_count": null,
   "id": "4a6738ca-f3bf-43d6-880f-b38aeb33c553",
   "metadata": {
    "jupyter": {
     "source_hidden": true
    }
   },
   "outputs": [],
   "source": [
    "import pandas as pd\n",
    "import sys\n",
    "import difflib\n",
    "import glob\n",
    "import os\n",
    "from loguru import logger\n",
    "from veritas.sot import sot as veritas_sot\n",
    "from veritas.devicemanagement import devicemanagement as dm\n",
    "from IPython.display import display, HTML"
   ]
  },
  {
   "cell_type": "code",
   "execution_count": null,
   "id": "4c8962dd-bb45-4caa-b532-89a0382b7925",
   "metadata": {
    "jupyter": {
     "source_hidden": true
    }
   },
   "outputs": [],
   "source": [
    "logger.configure(extra={\"extra\": \"unset\"})\n",
    "logger.remove()\n",
    "logger.add(sys.stderr, level=loglevel)"
   ]
  },
  {
   "cell_type": "code",
   "execution_count": null,
   "id": "100e3784-99c8-42f6-b195-5708d84b3f17",
   "metadata": {
    "jupyter": {
     "source_hidden": true
    }
   },
   "outputs": [],
   "source": [
    "def get_configs(hostname, directory, live=False, ip=None, \n",
    "                username=None, password=None, platform='ios', manufacturer='cisco', port=22, \n",
    "                scrapli_loglevel='none'):\n",
    "\n",
    "    if live:\n",
    "        conn = dm.Devicemanagement(ip=ip, platform=platform, manufacturer=manufacturer, username=username, password=password, port=port, scrapli_loglevel=scrapli_loglevel)\n",
    "        startup_config = conn.get_config('startup-config').splitlines()\n",
    "        running_config = conn.get_config('running-config').splitlines()\n",
    "    else:\n",
    "        running_filename = f'{directory}/{hostname}.running.cfg'\n",
    "        startup_filename = f'{directory}/{hostname}.startup.cfg'\n",
    "        with open(startup_filename, 'r') as sf:\n",
    "            startup_config = [line.rstrip() for line in sf]\n",
    "        with open(running_filename, 'r') as rf:\n",
    "            running_config = [line.rstrip() for line in rf]\n",
    "\n",
    "    return startup_config, running_config"
   ]
  },
  {
   "cell_type": "markdown",
   "id": "67dc8257-ad55-495f-8e81-66f1590c8381",
   "metadata": {},
   "source": [
    "## initialize our sot and get the list of devices"
   ]
  },
  {
   "cell_type": "code",
   "execution_count": null,
   "id": "91146ad5-7153-4316-963d-72281b78dc46",
   "metadata": {},
   "outputs": [],
   "source": [
    "sot = veritas_sot.Sot(token=token, url=url, ssl_verify=ssl_verify)"
   ]
  },
  {
   "cell_type": "code",
   "execution_count": null,
   "id": "0f3e261b-cb74-4e6b-b4d9-1523cf803fcf",
   "metadata": {},
   "outputs": [],
   "source": [
    "devices = sot.select('name, primary_ip4, device_type, platform') \\\n",
    "             .using('nb.devices') \\\n",
    "             .where(where)"
   ]
  },
  {
   "cell_type": "markdown",
   "id": "f03d6e32-7f4f-4b00-913c-cb030c61ffe5",
   "metadata": {},
   "source": [
    "#### if you want to see the list of devices run the next cell"
   ]
  },
  {
   "cell_type": "code",
   "execution_count": null,
   "id": "f9a81cc7-74ca-4b45-bb70-9651c5c25fba",
   "metadata": {},
   "outputs": [],
   "source": [
    "# display(devices)"
   ]
  },
  {
   "cell_type": "markdown",
   "id": "8e752f3a-23a6-4a17-840c-c066d5fa06f0",
   "metadata": {},
   "source": [
    "# see differences of devices"
   ]
  },
  {
   "cell_type": "code",
   "execution_count": null,
   "id": "db8452d0-313c-4d21-b28a-8c521f780608",
   "metadata": {},
   "outputs": [],
   "source": [
    "for device in devices:\n",
    "    hostname = device.get('name')\n",
    "    ip = device.get('primary_ip4',{}).get('address').split('/')[0]\n",
    "    platform = device.get('platform',{}).get('name')\n",
    "    manufacturer = device.get('device_type',{}).get('manufacturer',{}).get('name','cisco')\n",
    "\n",
    "    directory = f'{backup_dir}/{hostname}/'\n",
    "    logger.bind(extra=hostname).debug(f'comparing configs')\n",
    "\n",
    "    startup_config, running_config = get_configs(hostname, directory, get_config_from_device, ip, username, password, platform, manufacturer, ssh_port)\n",
    "    html_diff = difflib.HtmlDiff()\n",
    "    comparison_table = html_diff.make_file(startup_config, running_config)\n",
    "    display(HTML(comparison_table))"
   ]
  },
  {
   "cell_type": "markdown",
   "id": "43f71a37-418c-4de0-a85a-77e508da222b",
   "metadata": {},
   "source": [
    "### show hostname, software, hardware, serial, and uptime"
   ]
  },
  {
   "cell_type": "code",
   "execution_count": null,
   "id": "90a087c3-4f3e-45dd-bd1a-59c905d36fb0",
   "metadata": {},
   "outputs": [],
   "source": [
    "command = \"show version\"\n",
    "version = conn.send(command)\n",
    "df = pd.DataFrame(version[command])\n",
    "df[['hostname', 'software_image', 'version', 'uptime', 'hardware', 'serial', 'config_register']]"
   ]
  },
  {
   "cell_type": "markdown",
   "id": "3430be20-b155-48f8-97e8-ab73b947b565",
   "metadata": {},
   "source": [
    "### show cdp neighbors"
   ]
  },
  {
   "cell_type": "code",
   "execution_count": null,
   "id": "b339a8b9-5871-4172-a327-012032d185c8",
   "metadata": {},
   "outputs": [],
   "source": [
    "command = \"show cdp neighbors\"\n",
    "neighbors = conn.send(command)\n",
    "df = pd.DataFrame(neighbors[command])\n",
    "df"
   ]
  },
  {
   "cell_type": "markdown",
   "id": "85cb5301-4f26-4250-a707-08266e185840",
   "metadata": {},
   "source": [
    "### show OSPF neighbors"
   ]
  },
  {
   "cell_type": "code",
   "execution_count": null,
   "id": "42a9e7d4-0231-4178-b9a7-e4af42a251cf",
   "metadata": {},
   "outputs": [],
   "source": [
    "command = \"show ip ospf neighbors\"\n",
    "ospf_neighbors = conn.send(command)\n",
    "df = pd.DataFrame(ospf_neighbors[command])\n",
    "df"
   ]
  },
  {
   "cell_type": "markdown",
   "id": "3e1885d2-1ed0-43bd-be0d-19a53a209e6e",
   "metadata": {},
   "source": [
    "### show ip int brief"
   ]
  },
  {
   "cell_type": "code",
   "execution_count": null,
   "id": "8fa11ec9-76cf-47ab-b8a9-d8cebdf349a3",
   "metadata": {},
   "outputs": [],
   "source": [
    "command = \"show ip int brief\"\n",
    "int_brief = conn.send(command)\n",
    "df = pd.DataFrame(int_brief[command])\n",
    "df"
   ]
  },
  {
   "cell_type": "markdown",
   "id": "217277c1-8c63-4989-b69b-f36382b5d5bb",
   "metadata": {},
   "source": [
    "### SNMP user"
   ]
  },
  {
   "cell_type": "code",
   "execution_count": null,
   "id": "c7f12dc5-7523-480f-937c-b0d4461f3a35",
   "metadata": {},
   "outputs": [],
   "source": [
    "command = \"show snmp user\"\n",
    "int_brief = conn.send(command)\n",
    "df = pd.DataFrame(int_brief[command])\n",
    "df"
   ]
  },
  {
   "cell_type": "code",
   "execution_count": null,
   "id": "5ff9d958-9b64-47f5-87bc-b66e758a5ceb",
   "metadata": {},
   "outputs": [],
   "source": [
    "command = \"show ip route\"\n",
    "ip_route = conn.send(command)\n",
    "df = pd.DataFrame(ip_route[command])\n",
    "df"
   ]
  },
  {
   "cell_type": "code",
   "execution_count": null,
   "id": "ec6acf5c-7dc7-4c73-9d78-07cc5bd09886",
   "metadata": {},
   "outputs": [],
   "source": [
    "command = \"show ip arp\"\n",
    "arp_table = conn.send(command)\n",
    "df = pd.DataFrame(arp_table[command])\n",
    "df"
   ]
  },
  {
   "cell_type": "markdown",
   "id": "8fca35f7-791f-464e-ba28-99de4682f604",
   "metadata": {},
   "source": [
    "## show interfaces"
   ]
  },
  {
   "cell_type": "code",
   "execution_count": null,
   "id": "db1faf95-5e82-4eb5-9d18-c36dd402c75b",
   "metadata": {},
   "outputs": [],
   "source": [
    "command = \"show interfaces\"\n",
    "arp_table = conn.send(command)\n",
    "df = pd.DataFrame(arp_table[command])\n",
    "df"
   ]
  },
  {
   "cell_type": "markdown",
   "id": "538a7835-abc4-474f-adc1-069c314b128c",
   "metadata": {},
   "source": [
    "## show ip interface brief"
   ]
  },
  {
   "cell_type": "code",
   "execution_count": null,
   "id": "c17dd307-a73a-481b-bd28-391a67f420a1",
   "metadata": {},
   "outputs": [],
   "source": [
    "command = \"show ip interface brief\"\n",
    "int_brief = conn.send(command)\n",
    "df = pd.DataFrame(int_brief[command])\n",
    "df"
   ]
  },
  {
   "cell_type": "markdown",
   "id": "2e88a8df-25ac-44f5-9b29-624c0abf372a",
   "metadata": {},
   "source": [
    "## show interfaces description"
   ]
  },
  {
   "cell_type": "code",
   "execution_count": null,
   "id": "2a695327-a9cd-4da3-a76a-6030ee239393",
   "metadata": {},
   "outputs": [],
   "source": [
    "command = \"show interfaces description\"\n",
    "arp_table = conn.send(command)\n",
    "df = pd.DataFrame(arp_table[command])\n",
    "df"
   ]
  },
  {
   "cell_type": "code",
   "execution_count": null,
   "id": "87a7f162-87b7-4966-be14-9e7b597b89de",
   "metadata": {},
   "outputs": [],
   "source": []
  }
 ],
 "metadata": {
  "kernelspec": {
   "display_name": "Python 3 (ipykernel)",
   "language": "python",
   "name": "python3"
  },
  "language_info": {
   "codemirror_mode": {
    "name": "ipython",
    "version": 3
   },
   "file_extension": ".py",
   "mimetype": "text/x-python",
   "name": "python",
   "nbconvert_exporter": "python",
   "pygments_lexer": "ipython3",
   "version": "3.11.7"
  }
 },
 "nbformat": 4,
 "nbformat_minor": 5
}
