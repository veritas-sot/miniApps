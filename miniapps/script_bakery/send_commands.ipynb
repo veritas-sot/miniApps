{
 "cells": [
  {
   "cell_type": "markdown",
   "id": "e41c12ea-43cf-4829-8336-30a996b2f3f8",
   "metadata": {},
   "source": [
    "# Notebook to send commands to a list of devices\n",
    "This notebook sends commands to a list of devices. nornir is used to speed up the process.\n",
    "\n",
    "___To use this notebook...___\n",
    "1. configure your username and password\n",
    "2. set where statement to get the list of devices\n",
    "3. configure token to access the sot\n",
    "4. If you want to see some more DEBUG messages set loglevel to DEBUG (optional)"
   ]
  },
  {
   "cell_type": "markdown",
   "id": "6fcfbe00-cfd1-44df-a0f4-8b193c37ec05",
   "metadata": {},
   "source": [
    "### define your login here"
   ]
  },
  {
   "cell_type": "code",
   "execution_count": null,
   "id": "a25350a8-d692-402d-a237-dce1ab4e569b",
   "metadata": {},
   "outputs": [],
   "source": [
    "username = \"username\"\n",
    "password = \"password\""
   ]
  },
  {
   "cell_type": "markdown",
   "id": "d47b9d66-5fa3-4ed8-aabe-b167e57fd34f",
   "metadata": {},
   "source": [
    "### on which devices should the commands be executed"
   ]
  },
  {
   "cell_type": "code",
   "execution_count": null,
   "id": "a21f4ed9-1f81-4b32-ac51-bdbc8545ed99",
   "metadata": {},
   "outputs": [],
   "source": [
    "where = \"\"\n",
    "additional_data = {}"
   ]
  },
  {
   "cell_type": "markdown",
   "id": "886e9262-1b24-4563-ad57-6652f582c8f6",
   "metadata": {},
   "source": [
    "### configure our SOT"
   ]
  },
  {
   "cell_type": "code",
   "execution_count": null,
   "id": "2b511d72-6912-4dae-a970-1c412fca694a",
   "metadata": {},
   "outputs": [],
   "source": [
    "token = \"your_token\"\n",
    "url = \"http://127.0.0.1:8080\"\n",
    "ssl_verify = False"
   ]
  },
  {
   "cell_type": "markdown",
   "id": "9687cfdc-7c64-46ba-a819-516148cb0ef8",
   "metadata": {},
   "source": [
    "### set loglevel"
   ]
  },
  {
   "cell_type": "code",
   "execution_count": null,
   "id": "e3d45518-23bd-4093-8069-d9409c5caf94",
   "metadata": {},
   "outputs": [],
   "source": [
    "loglevel = \"CRITICAL\"\n",
    "scrapli_loglevel = \"NONE\""
   ]
  },
  {
   "cell_type": "markdown",
   "id": "d41db436-628f-4a98-8440-d123e27023b0",
   "metadata": {
    "jp-MarkdownHeadingCollapsed": true
   },
   "source": [
    "# Basic settup.. Import packages and add functions"
   ]
  },
  {
   "cell_type": "code",
   "execution_count": null,
   "id": "80027270-50a9-4a11-a436-2cfd1c13efe5",
   "metadata": {
    "jupyter": {
     "source_hidden": true
    }
   },
   "outputs": [],
   "source": [
    "import pandas as pd\n",
    "import sys\n",
    "from loguru import logger\n",
    "from veritas.sot import sot as veritas_sot\n",
    "from nornir_inspect import nornir_inspect\n",
    "from nornir_utils.plugins.functions import print_result\n",
    "from nornir.core.task import Task, Result\n",
    "from nornir_napalm.plugins.tasks import napalm_get\n",
    "from nornir_scrapli.tasks import send_configs\n",
    "from nornir_netmiko.tasks import netmiko_save_config, netmiko_send_config"
   ]
  },
  {
   "cell_type": "code",
   "execution_count": null,
   "id": "dfdaedf1-e8c3-4cc8-aa6c-e850be53d6eb",
   "metadata": {
    "jupyter": {
     "source_hidden": true
    }
   },
   "outputs": [],
   "source": [
    "logger.configure(extra={\"extra\": \"unset\"})\n",
    "logger.remove()\n",
    "logger.add(sys.stderr, level=loglevel)"
   ]
  },
  {
   "cell_type": "markdown",
   "id": "d0732ae6-354c-4097-ae76-9dba83f5a06a",
   "metadata": {},
   "source": [
    "## function to initialize nornir"
   ]
  },
  {
   "cell_type": "code",
   "execution_count": null,
   "id": "2d39aa4b-5a1f-4332-9df2-766af8f4c05c",
   "metadata": {
    "jupyter": {
     "source_hidden": true
    }
   },
   "outputs": [],
   "source": [
    "def init_nornir():\n",
    "    sot = veritas_sot.Sot(token=token, url=url, ssl_verify=ssl_verify)\n",
    "    nr = sot.job.on(where) \\\n",
    "        .set(username=username, password=password, result='result', parse=False) \\\n",
    "        .add_data(additional_data) \\\n",
    "        .init_nornir()\n",
    "    return nr"
   ]
  },
  {
   "cell_type": "markdown",
   "id": "ea2b492c-4eed-4f8d-bb1b-a32b719cbc94",
   "metadata": {},
   "source": [
    "## function to send commands to device"
   ]
  },
  {
   "cell_type": "code",
   "execution_count": null,
   "id": "887fe540-e14c-4000-b055-94bf8b6c1673",
   "metadata": {
    "jupyter": {
     "source_hidden": true
    }
   },
   "outputs": [],
   "source": [
    "def send_commands_to_device(task: Task, commands) -> Result:\n",
    "    result = []\n",
    "    # Manually create Netmiko connection\n",
    "    net_connect = task.host.get_connection(\"netmiko\", task.nornir.config)\n",
    "    result.append({'cmd': 'config_mode', 'output': net_connect.config_mode()})\n",
    "    for cmd in commands:\n",
    "        result.append({'cmd': cmd, 'output': net_connect.send_command(cmd, expect_string=r\"#\")})\n",
    "    result.append({'cmd': 'exit_config_mode', 'output': net_connect.exit_config_mode()})\n",
    "    return Result(\n",
    "        host=task.host,\n",
    "        result=result\n",
    "    )"
   ]
  },
  {
   "cell_type": "markdown",
   "id": "f72172c8-969f-49d0-854b-18846ab0b81b",
   "metadata": {},
   "source": [
    "# now the fun part begins"
   ]
  },
  {
   "cell_type": "markdown",
   "id": "7b488869-2870-4b9a-8005-abc3ee5eb6d1",
   "metadata": {},
   "source": [
    "## initialize nornir"
   ]
  },
  {
   "cell_type": "code",
   "execution_count": null,
   "id": "95777627-ff76-45ff-b889-64dadb8b97fb",
   "metadata": {},
   "outputs": [],
   "source": [
    "nr = init_nornir()"
   ]
  },
  {
   "cell_type": "markdown",
   "id": "7d5537af-e030-46d7-a11a-9b942d9a8e31",
   "metadata": {},
   "source": [
    "## check the list of hosts"
   ]
  },
  {
   "cell_type": "code",
   "execution_count": null,
   "id": "39032f9a-e435-4414-bae9-4061797ab862",
   "metadata": {},
   "outputs": [],
   "source": [
    "display(nr.inventory.hosts)"
   ]
  },
  {
   "cell_type": "markdown",
   "id": "f5ca4a7d-da95-4a76-b92a-f171d5a7091a",
   "metadata": {},
   "source": [
    "## define your commands here"
   ]
  },
  {
   "cell_type": "code",
   "execution_count": null,
   "id": "0deb7f95-4bcb-4831-8b46-d6521a5a2852",
   "metadata": {},
   "outputs": [],
   "source": [
    "commands = [\"username xxx\"]"
   ]
  },
  {
   "cell_type": "markdown",
   "id": "abe40b91-f60e-4462-a586-ca40fa4fec55",
   "metadata": {},
   "source": [
    "## now run commands on all devices\n",
    "at the end a table containing all results is printed"
   ]
  },
  {
   "cell_type": "code",
   "execution_count": null,
   "id": "d000beda-b344-47a1-a9d7-5a41a9cf58d0",
   "metadata": {},
   "outputs": [],
   "source": [
    "results = nr.run(\n",
    "            name=\"send_commands_to_device\", \n",
    "            task=send_commands_to_device,\n",
    "            commands=commands\n",
    ")"
   ]
  },
  {
   "cell_type": "code",
   "execution_count": null,
   "id": "2a1ad5fa-1f74-4988-b220-cd35e3c59d04",
   "metadata": {},
   "outputs": [],
   "source": [
    "table = []\n",
    "hosts = results.keys()\n",
    "for host in hosts:\n",
    "    commands = results[host][0].result\n",
    "    for command in commands:\n",
    "        key = command.get('cmd')\n",
    "        value = command.get('output')\n",
    "        table.append({'host': host, 'cmd': key, 'output': value})\n",
    "df = pd.DataFrame(table)\n",
    "df"
   ]
  }
 ],
 "metadata": {
  "kernelspec": {
   "display_name": "Python 3 (ipykernel)",
   "language": "python",
   "name": "python3"
  },
  "language_info": {
   "codemirror_mode": {
    "name": "ipython",
    "version": 3
   },
   "file_extension": ".py",
   "mimetype": "text/x-python",
   "name": "python",
   "nbconvert_exporter": "python",
   "pygments_lexer": "ipython3",
   "version": "3.11.7"
  }
 },
 "nbformat": 4,
 "nbformat_minor": 5
}
