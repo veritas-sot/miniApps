{
 "cells": [
  {
   "cell_type": "markdown",
   "id": "44a33ba1-d1b3-4272-a0af-b25ec9a7173e",
   "metadata": {},
   "source": [
    "# Write personal config of your MiniApps"
   ]
  },
  {
   "cell_type": "markdown",
   "id": "61c67be6-160a-431c-8e20-062753569062",
   "metadata": {},
   "source": [
    "## List of MiniApps"
   ]
  },
  {
   "cell_type": "code",
   "execution_count": null,
   "id": "dc934e67-305b-4aa9-a3de-5e837bdb6023",
   "metadata": {},
   "outputs": [],
   "source": [
    "miniapps = ['onboarding','kobold','script_bakery','scan_prefixes',\n",
    "            'check_inventory', 'scheduler', 'configmanagement',\n",
    "            'sync_cmk','sync_phpipam','sync_smokeping','dispatcher',\n",
    "            'nachtwaechter', 'library_importer']\n",
    "profiles = ['configmanagement', 'onboarding','kobold','script_bakery','nachtwaechter']\n",
    "# special cases where we have an additional config (key => app, value=>config_name)\n",
    "additional = {}\n",
    "copy_files = {'nachtwaechter': ['index.yaml','mapping.conf.example']}"
   ]
  },
  {
   "cell_type": "markdown",
   "id": "c02d108e-fd85-476b-bf48-b0f5c26c2e58",
   "metadata": {},
   "source": [
    "## Destination directory\n",
    "The default is to save the configs in your Homedir"
   ]
  },
  {
   "cell_type": "code",
   "execution_count": null,
   "id": "19cea053-eef7-4974-ba9a-baf6b98508ae",
   "metadata": {},
   "outputs": [],
   "source": [
    "import os\n",
    "import yaml\n",
    "BASEDIR = os.path.abspath('')\n",
    "HOMEDIR = os.path.expanduser('~')\n",
    "\n",
    "veritas_config_basepath = f'{HOMEDIR}/.veritas/miniapps/'"
   ]
  },
  {
   "cell_type": "markdown",
   "id": "30c16c39-9e7e-48d8-a858-e2ec095e7d3d",
   "metadata": {},
   "source": [
    "### We use benedict to store our config"
   ]
  },
  {
   "cell_type": "code",
   "execution_count": null,
   "id": "a55aa05c-638b-48c7-8da3-5f82c4d04c18",
   "metadata": {},
   "outputs": [],
   "source": [
    "import os\n",
    "from benedict import benedict\n",
    "config = benedict(keyattr_dynamic=True)"
   ]
  },
  {
   "cell_type": "markdown",
   "id": "e317a05b-e6a6-469c-a0e9-42d16873d7e4",
   "metadata": {},
   "source": [
    "# Read config values from file (config_values.yaml)"
   ]
  },
  {
   "cell_type": "code",
   "execution_count": null,
   "id": "1b804a9d-0748-45f0-9a45-07c61f5a90e6",
   "metadata": {},
   "outputs": [],
   "source": [
    "with open('config_values.yaml') as f:\n",
    "    cfg = yaml.safe_load(f.read())\n",
    "config = benedict(cfg, keyattr_dynamic=True)"
   ]
  },
  {
   "cell_type": "markdown",
   "id": "11a74c91-57e3-4e5e-a98e-6e4380cc3827",
   "metadata": {},
   "source": [
    "# Profile (optional)\n",
    "You can configure username and password in config_values.yaml<br>\n",
    "If you want to overwrite these settings use the next cells"
   ]
  },
  {
   "cell_type": "markdown",
   "id": "9a95e0fe-2db3-459f-a3de-83e124b21d75",
   "metadata": {},
   "source": [
    "## configure username and password to login to your devices"
   ]
  },
  {
   "cell_type": "code",
   "execution_count": null,
   "id": "01e7957b-b596-4a4a-8f0c-01852218449b",
   "metadata": {},
   "outputs": [],
   "source": [
    "#config['profile']['username'] = \"lab\""
   ]
  },
  {
   "cell_type": "markdown",
   "id": "87543c29-3a0f-4b5c-97cb-b8e5ba6699aa",
   "metadata": {},
   "source": [
    "## Either set password using variable\n",
    "This is the encrypted token. If you do not have such a token use the 'getpass' version below."
   ]
  },
  {
   "cell_type": "code",
   "execution_count": null,
   "id": "6c970993-5002-478b-83cc-dd7e0f8a07f4",
   "metadata": {},
   "outputs": [],
   "source": [
    "#config['profile']['password'] = \"encrypted_password\""
   ]
  },
  {
   "cell_type": "markdown",
   "id": "6d71c50d-ddd1-4053-8b41-6c26957a795e",
   "metadata": {},
   "source": [
    "## or use getpass"
   ]
  },
  {
   "cell_type": "code",
   "execution_count": null,
   "id": "036d40c8-1a39-455c-92a6-c0f199be944f",
   "metadata": {},
   "outputs": [],
   "source": [
    "#import getpass\n",
    "#from veritas.sot import sot as veritas_sot\n",
    "#password = getpass.getpass(prompt=\"Enter password: \")\n",
    "#sot = veritas_sot.Sot()\n",
    "#auth = sot.auth(salt=config.profile.salt, encryption_key=config.profile.encryptionkey, iterations=int(config.profile.iterations))\n",
    "#config['profile']['password'] = auth.encrypt(password)"
   ]
  },
  {
   "cell_type": "markdown",
   "id": "64640696-4b6d-4401-8843-5a10a911d54b",
   "metadata": {},
   "source": [
    "# Internals like further import, settings and internal methods"
   ]
  },
  {
   "cell_type": "code",
   "execution_count": null,
   "id": "f054d823-53cc-4022-b39d-b3731dca87ff",
   "metadata": {
    "jupyter": {
     "source_hidden": true
    }
   },
   "outputs": [],
   "source": [
    "from IPython.display import display, HTML\n",
    "import shutil"
   ]
  },
  {
   "cell_type": "code",
   "execution_count": null,
   "id": "d2515e98-8afc-45dd-bad9-a142446796b2",
   "metadata": {
    "jupyter": {
     "source_hidden": true
    }
   },
   "outputs": [],
   "source": [
    "def replace_placeholders(app, app_config, config):\n",
    "    app_config = app_config.replace(f'__username__', config['profile']['username'])\n",
    "    app_config = app_config.replace(f'__password__', config['profile']['password'])\n",
    "    \n",
    "    # app specific config\n",
    "    if app in config:\n",
    "        flatten_config = config[app].flatten(separator=\"_\")\n",
    "        for key, value in flatten_config.items():\n",
    "            if isinstance(value, str) and '{HOMEDIR}' in value:\n",
    "                value = value.replace(\"{HOMEDIR}\", HOMEDIR)\n",
    "            app_config = app_config.replace(f'__{key}__', str(value))\n",
    "        \n",
    "    flatten_config = config.flatten(separator=\"_\")\n",
    "    for key, value in flatten_config.items():\n",
    "        if isinstance(value, str) and '{HOMEDIR}' in value:\n",
    "            value = value.replace(\"{HOMEDIR}\", HOMEDIR)\n",
    "        app_config = app_config.replace(f'__{key}__', str(value))\n",
    "\n",
    "    return app_config"
   ]
  },
  {
   "cell_type": "code",
   "execution_count": null,
   "id": "dbb085b0-546f-4e8f-ba60-24c5264a4776",
   "metadata": {
    "jupyter": {
     "source_hidden": true
    }
   },
   "outputs": [],
   "source": [
    "def main_loop(app, filename, veritas_config_basepath):\n",
    "    config_filename = f'{veritas_config_basepath}/{app}/{filename}.yaml'\n",
    "    directory = os.path.dirname(config_filename)\n",
    "    if not os.path.exists(directory):\n",
    "        os.makedirs(directory)\n",
    "    app_example_config = f'{BASEDIR}/../{app}/conf/{filename}.yaml.example'\n",
    "    if os.path.isfile(app_example_config):\n",
    "        with open(app_example_config, \"r\") as f:\n",
    "            app_config = f.read()\n",
    "        new_config = replace_placeholders(app, app_config, config)\n",
    "        with open(config_filename, \"w\") as f:\n",
    "            f.write(new_config)\n",
    "    else:\n",
    "        display(f'config {app_example_config} does not exist')"
   ]
  },
  {
   "cell_type": "markdown",
   "id": "abd732f9-c560-4429-85e7-53b6fab73901",
   "metadata": {},
   "source": [
    "# Now write config"
   ]
  },
  {
   "cell_type": "code",
   "execution_count": null,
   "id": "6ef77525-7a07-4584-9d4b-cfb6b95e1676",
   "metadata": {},
   "outputs": [],
   "source": [
    "for app in miniapps:\n",
    "    main_loop(app, app, veritas_config_basepath)\n",
    "for app in profiles:\n",
    "    main_loop(app, 'profiles', veritas_config_basepath)\n",
    "    main_loop(app, 'salt', veritas_config_basepath)\n",
    "for app in additional:\n",
    "    main_loop(app, additional[app], veritas_config_basepath)"
   ]
  },
  {
   "cell_type": "markdown",
   "id": "d74bb8c6-89e1-43c3-b6e6-8383c6d8089c",
   "metadata": {},
   "source": [
    "# And copy some additional files"
   ]
  },
  {
   "cell_type": "code",
   "execution_count": null,
   "id": "2f8bac15-40ab-4f2d-9197-754e7645bdc5",
   "metadata": {},
   "outputs": [],
   "source": [
    "for app in copy_files:\n",
    "    for filename in copy_files[app]:\n",
    "        soure = f'{BASEDIR}/../{app}/conf/{filename}'\n",
    "        destination = f'{veritas_config_basepath}/{app}/{filename}'\n",
    "        shutil.copy(soure, destination, follow_symlinks=True)"
   ]
  }
 ],
 "metadata": {
  "kernelspec": {
   "display_name": "Python 3 (ipykernel)",
   "language": "python",
   "name": "python3"
  },
  "language_info": {
   "codemirror_mode": {
    "name": "ipython",
    "version": 3
   },
   "file_extension": ".py",
   "mimetype": "text/x-python",
   "name": "python",
   "nbconvert_exporter": "python",
   "pygments_lexer": "ipython3",
   "version": "3.11.7"
  }
 },
 "nbformat": 4,
 "nbformat_minor": 5
}
