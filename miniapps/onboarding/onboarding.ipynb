{
 "cells": [
  {
   "cell_type": "markdown",
   "id": "469bb1f4-bfd4-4317-ac09-7d78f35de6b4",
   "metadata": {},
   "source": [
    "# onboard new device(s) to nautobot\n",
    "With the help of notebook script you can easily add devices to nautobot"
   ]
  },
  {
   "cell_type": "markdown",
   "id": "1c19cdef-bf3a-4a8f-8f59-7f217f079da7",
   "metadata": {},
   "source": [
    "## enter <font color='red'>username</font> and <font color='red'>password</font> to login to your devices"
   ]
  },
  {
   "cell_type": "code",
   "execution_count": null,
   "id": "9f80909f-05d3-4363-a6d1-c617f06a8cd5",
   "metadata": {},
   "outputs": [],
   "source": [
    "username = \"username\"\n",
    "password = \"password\""
   ]
  },
  {
   "cell_type": "markdown",
   "id": "59803218-8778-4348-9d20-86ef45abf72c",
   "metadata": {},
   "source": [
    "## define your default settings\n",
    "* if you want to add new devices but do not want to change existing devices set update_device to False\n",
    "* if you want to add tags to the device and the interfaces set add_tags to True\n",
    "* To import the primary Interface only set primary_only to True\n",
    "* If you want to import the configs from a file set import_config to True\n",
    "* If you update your device and you want to update the interfaces set update_interfaces to True"
   ]
  },
  {
   "cell_type": "code",
   "execution_count": null,
   "id": "45542b5d-e11c-438c-8917-ae0717292d7b",
   "metadata": {},
   "outputs": [],
   "source": [
    "update_device = False\n",
    "add_tags = True\n",
    "primary_only = True\n",
    "import_config = False\n",
    "update_interfaces = True\n",
    "loglevel = 'INFO'"
   ]
  },
  {
   "cell_type": "markdown",
   "id": "ad36383b-c809-47a5-a3da-2e6ed8935402",
   "metadata": {},
   "source": [
    "## import mandatory packages"
   ]
  },
  {
   "cell_type": "code",
   "execution_count": null,
   "id": "36ff5890-ea76-4e68-8817-4150e9f743b1",
   "metadata": {},
   "outputs": [],
   "source": [
    "import os\n",
    "import sys\n",
    "import pandas as pd\n",
    "from veritas.onboarding import onboarding\n",
    "from loguru import logger\n",
    "from veritas.tools import tools\n",
    "from IPython.display import display, Markdown, JSON"
   ]
  },
  {
   "cell_type": "markdown",
   "id": "9127bbd6-a2c1-4095-bc00-800c518b9119",
   "metadata": {},
   "source": [
    "## configure logger output"
   ]
  },
  {
   "cell_type": "code",
   "execution_count": null,
   "id": "c6d90dcf-45df-4d50-98a7-5eb06075be54",
   "metadata": {},
   "outputs": [],
   "source": [
    "logger.configure(extra={\"extra\": \"unset\"})\n",
    "logger.remove()\n",
    "logger.add(sys.stderr, level=loglevel)"
   ]
  },
  {
   "cell_type": "markdown",
   "id": "d031d4fa-6e9d-4760-9327-409d57f2d4b9",
   "metadata": {},
   "source": [
    "## create onboarding instance"
   ]
  },
  {
   "cell_type": "code",
   "execution_count": null,
   "id": "c9dd2800-c5ea-4091-bc63-9cfcf83a24dc",
   "metadata": {},
   "outputs": [],
   "source": [
    "onb = onboarding.Onboarding(username=username, password=password)"
   ]
  },
  {
   "cell_type": "markdown",
   "id": "0531cbad-259a-4b9c-99fe-effc5cae2825",
   "metadata": {
    "editable": true,
    "slideshow": {
     "slide_type": ""
    },
    "tags": []
   },
   "source": [
    "## You can either <font color='red'>read</font> the inventory from file or add a devicelist <font color='red'>manually</font>"
   ]
  },
  {
   "cell_type": "markdown",
   "id": "4ba2478d-668c-4fd8-9cc7-24cc1e133557",
   "metadata": {},
   "source": [
    "### read inventory from file\n",
    "supported file format are __xlsx, yaml and csv__"
   ]
  },
  {
   "cell_type": "code",
   "execution_count": null,
   "id": "0ff78b54-b86a-47a7-aef5-e1f3cd88e6c5",
   "metadata": {},
   "outputs": [],
   "source": [
    "devices = onb.read_inventory('./inventory.yaml')"
   ]
  },
  {
   "cell_type": "markdown",
   "id": "8795adca-b150-4b97-90c8-14dc92f27114",
   "metadata": {},
   "source": [
    "or create your own list of devices (be careful: __this overwrites the devices above__)"
   ]
  },
  {
   "cell_type": "code",
   "execution_count": null,
   "id": "9990f393-480d-45f9-b9b4-205443ed9315",
   "metadata": {},
   "outputs": [],
   "source": [
    "# devices = []\n",
    "# devices.append({'name': 'lab.local', 'ip': '192.168.0.1'})"
   ]
  },
  {
   "cell_type": "markdown",
   "id": "46b2cccc-64eb-4936-9958-e34011c1c42f",
   "metadata": {},
   "source": [
    "### if you want to see your devices run the next cell"
   ]
  },
  {
   "cell_type": "code",
   "execution_count": null,
   "id": "085e6404-8da2-40a5-b33a-68a3e3a42e37",
   "metadata": {},
   "outputs": [],
   "source": [
    "df = pd.DataFrame(devices)\n",
    "df"
   ]
  },
  {
   "cell_type": "markdown",
   "id": "81028685-0261-4791-883c-036212e1baee",
   "metadata": {},
   "source": [
    "Main loop: loop through all the devices"
   ]
  },
  {
   "cell_type": "code",
   "execution_count": null,
   "id": "1887d7b6-4a72-481b-b41b-560d1a462e71",
   "metadata": {},
   "outputs": [],
   "source": [
    "for device in devices:\n",
    "    hostname = device.get('name')\n",
    "    logger.configure(extra={\"extra\": hostname})\n",
    "    display(Markdown(f'*processing {hostname}*'))\n",
    "    ip = device.get('ip', onb.get_ip_from_host(hostname))\n",
    "\n",
    "    # we need the IP address of the host\n",
    "    if not ip:\n",
    "        display(Markdown(f'could not resolv IP address of {hostname}'))\n",
    "        # if we import the config we set the IP to the hostname and import\n",
    "        # the config and facts from file\n",
    "        if import_config:\n",
    "            ip = hostname\n",
    "        else:\n",
    "            continue"
   ]
  },
  {
   "cell_type": "markdown",
   "id": "fd452d8a-531d-4c2e-ae1c-cbe025bcead9",
   "metadata": {},
   "source": [
    "### check if host is in nautobot"
   ]
  },
  {
   "cell_type": "code",
   "execution_count": null,
   "id": "24ce1a9e-dd22-4d23-8f5a-8b123a278a58",
   "metadata": {},
   "outputs": [],
   "source": [
    "    device_in_sot = onb.device_in_sot(ip, hostname)\n",
    "    display(Markdown(f'* {hostname} in sot: {device_in_sot}'))"
   ]
  },
  {
   "cell_type": "markdown",
   "id": "efb20e62-27b9-4731-80b1-a0704d48e107",
   "metadata": {},
   "source": [
    "### get device config, device facts and properties"
   ]
  },
  {
   "cell_type": "markdown",
   "id": "e1bb63a8-1802-4d23-b134-d28bee9d1143",
   "metadata": {},
   "source": [
    "#### first the default values"
   ]
  },
  {
   "cell_type": "code",
   "execution_count": null,
   "id": "075da733-5d9b-4ea2-ac23-a09c5ae4b7dc",
   "metadata": {},
   "outputs": [],
   "source": [
    "device_defaults = onb.get_device_defaults(ip, device)"
   ]
  },
  {
   "cell_type": "markdown",
   "id": "36eedd22-1038-44c7-898c-e3041b6b4a61",
   "metadata": {},
   "source": [
    "#### if you want to see the device defaults run the next cell"
   ]
  },
  {
   "cell_type": "code",
   "execution_count": null,
   "id": "17498340-b5e3-4b6d-9c73-2a9fee8b7df0",
   "metadata": {},
   "outputs": [],
   "source": [
    "display(JSON(device_defaults))"
   ]
  },
  {
   "cell_type": "markdown",
   "id": "095143e3-27ae-4303-a6fe-c846a7d7bb3d",
   "metadata": {},
   "source": [
    "#### any changes? Than update device_defaults! (and rerun the cell above to see the changes!)"
   ]
  },
  {
   "cell_type": "code",
   "execution_count": null,
   "id": "f1f977b6-e1ce-4cb3-9ffd-a1ac5507413c",
   "metadata": {},
   "outputs": [],
   "source": [
    "# device_defaults.update({'status': {'name': 'Active'}})"
   ]
  },
  {
   "cell_type": "markdown",
   "id": "fbdd8859-e2dc-47de-b7f3-49e04e191595",
   "metadata": {},
   "source": [
    "#### get config and facts. Then parse config"
   ]
  },
  {
   "cell_type": "code",
   "execution_count": null,
   "id": "6653ff8c-0715-43e2-8797-455a5a20fe9f",
   "metadata": {},
   "outputs": [],
   "source": [
    "    device_config, device_facts = onb.get_device_config_and_facts(\n",
    "                                    device_ip=ip, \n",
    "                                    device_defaults=device_defaults,\n",
    "                                    import_config=import_config,\n",
    "                                    import_filename=hostname)\n",
    "\n",
    "    # parse config to get interfaces and so on\n",
    "    parser = onb.parse_config(device_config, device_facts, device_defaults)"
   ]
  },
  {
   "cell_type": "markdown",
   "id": "39bc0c87-c593-4c1b-b13c-01895a16aada",
   "metadata": {},
   "source": [
    "#### get primary address, device_properties, primary_interface and vlan_properties"
   ]
  },
  {
   "cell_type": "code",
   "execution_count": null,
   "id": "690b859e-8e8c-4b20-91f0-8888e4916bb5",
   "metadata": {},
   "outputs": [],
   "source": [
    "    primary_address = onb.get_primary_address()\n",
    "    device_properties = onb.get_device_properties()\n",
    "    primary_interface = onb.get_primary_interface(primary_address=primary_address, \n",
    "                                                  device_properties=device_properties)\n",
    "    vlan_properties = onb.get_vlan_properties()"
   ]
  },
  {
   "cell_type": "code",
   "execution_count": null,
   "id": "c1eccf4a-1582-4339-8e1e-fb4d6c5f06e6",
   "metadata": {},
   "outputs": [],
   "source": [
    "display(JSON(primary_interface))"
   ]
  },
  {
   "cell_type": "markdown",
   "id": "a540a00c-9a7c-4628-8cb7-d3768b44165a",
   "metadata": {},
   "source": [
    "#### set interfaces\n",
    "if primary_interface is true we create a list of a single interface\n",
    "otherwise we get the interface properties from the config"
   ]
  },
  {
   "cell_type": "code",
   "execution_count": null,
   "id": "9dbeee76-e18b-488a-af61-4842decb5d83",
   "metadata": {},
   "outputs": [],
   "source": [
    "    if primary_only:\n",
    "        interfaces = [{'name': primary_interface.get('name'),\n",
    "                           'ip_addresses': [{'address': primary_interface.get('address'),\n",
    "                                             'status': {'name': 'Active'}\n",
    "                                            }],\n",
    "                           'description': primary_interface.get('description','Primary Interface'),\n",
    "                           'type': primary_interface.get('type', '1000base-t'),\n",
    "                           'status': {'name': 'Active'}}]\n",
    "    \n",
    "    else:\n",
    "        interfaces = onb.get_interface_properties()"
   ]
  },
  {
   "cell_type": "markdown",
   "id": "e81ec49a-d1a9-427a-84a3-3b3f7e019a27",
   "metadata": {},
   "source": [
    "#### if you want to look at the properties run the next cell"
   ]
  },
  {
   "cell_type": "code",
   "execution_count": null,
   "id": "e74631f8-2ab2-4765-8237-4f20bc42cf82",
   "metadata": {},
   "outputs": [],
   "source": [
    "display(JSON(device_properties))"
   ]
  },
  {
   "cell_type": "markdown",
   "id": "c2940a07-b16e-43b0-a1d2-985c3ad0051e",
   "metadata": {},
   "source": [
    "#### want to change anything? Rerun the above cell to see the changes"
   ]
  },
  {
   "cell_type": "code",
   "execution_count": null,
   "id": "6be02a57-50fd-4cd1-90d7-6d72c7998e4f",
   "metadata": {},
   "outputs": [],
   "source": [
    "# device_properties.update({'status': {'name': 'Active'}})"
   ]
  },
  {
   "cell_type": "markdown",
   "id": "9df01b46-e971-4ee2-94f3-dadcfb66b804",
   "metadata": {},
   "source": [
    "#### if you want to see the interfaces run the next cells"
   ]
  },
  {
   "cell_type": "code",
   "execution_count": null,
   "id": "3f12edcb-266d-43c6-87ef-7ea6c76cd677",
   "metadata": {},
   "outputs": [],
   "source": [
    "display(JSON(interfaces))"
   ]
  },
  {
   "cell_type": "markdown",
   "id": "b84b1d61-d94f-426c-81b1-f3b01c4cd666",
   "metadata": {},
   "source": [
    "#### want to change anything? Rerun the above cell to see the changes"
   ]
  },
  {
   "cell_type": "code",
   "execution_count": null,
   "id": "b2248b21-f462-4657-9e80-7959c4407ca1",
   "metadata": {},
   "outputs": [],
   "source": [
    "# interfaces[0].update({'status': {'name': 'Active'}})"
   ]
  },
  {
   "cell_type": "markdown",
   "id": "e3de4c39-8d3f-4449-83c7-fe2de192ebb9",
   "metadata": {},
   "source": [
    "### add or update device to nautobot"
   ]
  },
  {
   "cell_type": "code",
   "execution_count": null,
   "id": "74ce10f3-1d2f-4364-ac41-b92bd6742147",
   "metadata": {},
   "outputs": [],
   "source": [
    "    if not device_in_sot:\n",
    "        device_in_sot = onb.add_device_to_sot(\n",
    "                        device_properties=device_properties,\n",
    "                        primary_interface=primary_interface.get(\"name\"),\n",
    "                        interfaces=interfaces,\n",
    "                        vlan_properties=vlan_properties,\n",
    "                        add_prefix=False)\n",
    "    elif update_device:\n",
    "        onb.update_device_in_sot(device=device_in_sot,\n",
    "                                 primary_address=primary_address,\n",
    "                                 interfaces=interfaces,\n",
    "                                 update_interfaces=update_interfaces, \n",
    "                                 primary_only=primary_only)"
   ]
  },
  {
   "cell_type": "markdown",
   "id": "768df630-ae28-486c-9e80-9cb42670e0fb",
   "metadata": {},
   "source": [
    "### If you want to add some tags .... go on\n",
    "The device is now part of nautobot. If you want to add some tags to the device or \n",
    "the some of its interfaces go an."
   ]
  },
  {
   "cell_type": "code",
   "execution_count": null,
   "id": "9bab7d92-b526-4bee-a092-9a0d02a8455c",
   "metadata": {},
   "outputs": [],
   "source": [
    "    if add_tags:\n",
    "        device_fqdn = device_properties.get('device_fqdn', hostname)\n",
    "        tag_properties = onb.get_tag_properties(device_fqdn,\n",
    "                                                device_properties,\n",
    "                                                device_facts)\n"
   ]
  },
  {
   "cell_type": "markdown",
   "id": "5b4f1b19-67ab-408b-85ed-c6a0a5df629f",
   "metadata": {},
   "source": [
    "#### if you want to look at the tag properties run the next cell¶"
   ]
  },
  {
   "cell_type": "code",
   "execution_count": null,
   "id": "99d82b22-e756-4d17-9430-20e5bf26b3f5",
   "metadata": {},
   "outputs": [],
   "source": [
    "display(JSON(tag_properties))"
   ]
  },
  {
   "cell_type": "markdown",
   "id": "4aeae8cd-f3ca-47b0-aba0-cbe706833d1d",
   "metadata": {},
   "source": [
    "#### you can easily add some custom tags to the device or its interfaces."
   ]
  },
  {
   "cell_type": "code",
   "execution_count": null,
   "id": "90d11835-cba0-4cf0-b9d9-11e8df076041",
   "metadata": {},
   "outputs": [],
   "source": [
    "# tag_properties = [{'name': 'test', \n",
    "#                    'scope': 'dcim.device'},\n",
    "#                   {'name': 'test', \n",
    "#                    'scope': 'dcim.interface',\n",
    "#                    'interface': 'Loopback0'}]"
   ]
  },
  {
   "cell_type": "markdown",
   "id": "007ff0d3-c84e-4fdd-96ae-4c747d1d888c",
   "metadata": {},
   "source": [
    "### now add tags to nautobot"
   ]
  },
  {
   "cell_type": "code",
   "execution_count": null,
   "id": "7f838830-40ec-481d-a64e-c792dcdd6659",
   "metadata": {},
   "outputs": [],
   "source": [
    "        response = onb.add_tags(hostname=device_fqdn, \n",
    "                                tag_properties=tag_properties, \n",
    "                                device=device_in_sot)"
   ]
  }
 ],
 "metadata": {
  "kernelspec": {
   "display_name": "Python 3 (ipykernel)",
   "language": "python",
   "name": "python3"
  },
  "language_info": {
   "codemirror_mode": {
    "name": "ipython",
    "version": 3
   },
   "file_extension": ".py",
   "mimetype": "text/x-python",
   "name": "python",
   "nbconvert_exporter": "python",
   "pygments_lexer": "ipython3",
   "version": "3.11.7"
  }
 },
 "nbformat": 4,
 "nbformat_minor": 5
}
