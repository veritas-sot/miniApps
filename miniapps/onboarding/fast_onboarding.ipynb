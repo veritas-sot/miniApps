{
 "cells": [
  {
   "cell_type": "markdown",
   "id": "469bb1f4-bfd4-4317-ac09-7d78f35de6b4",
   "metadata": {
    "editable": false,
    "slideshow": {
     "slide_type": "fragment"
    },
    "tags": []
   },
   "source": [
    "# fast onboarding to add a device to nautobot\n",
    "With the help of this script you can easily add a device to nautobot"
   ]
  },
  {
   "cell_type": "markdown",
   "id": "a91ace4b-b923-4fe3-a7ba-a9e14ec06f63",
   "metadata": {
    "editable": false,
    "slideshow": {
     "slide_type": ""
    },
    "tags": []
   },
   "source": [
    "## configure your sot"
   ]
  },
  {
   "cell_type": "code",
   "execution_count": null,
   "id": "464b8863-64df-407e-8b4b-028250c18a7a",
   "metadata": {},
   "outputs": [],
   "source": [
    "token = \"your_token\"\n",
    "url = \"http://127.0.0.1:8080\"\n",
    "ssl_verify = False"
   ]
  },
  {
   "cell_type": "markdown",
   "id": "59803218-8778-4348-9d20-86ef45abf72c",
   "metadata": {
    "editable": false,
    "slideshow": {
     "slide_type": ""
    },
    "tags": []
   },
   "source": [
    "# specify your device"
   ]
  },
  {
   "cell_type": "markdown",
   "id": "f8b18eaa-3cb0-4755-b81f-b0df6f84601f",
   "metadata": {
    "editable": false,
    "slideshow": {
     "slide_type": ""
    },
    "tags": []
   },
   "source": [
    "## mandatory settings"
   ]
  },
  {
   "cell_type": "code",
   "execution_count": null,
   "id": "d59b32ed-9253-421b-951e-938e7d146134",
   "metadata": {},
   "outputs": [],
   "source": [
    "device_name = \"test.lab\"\n",
    "primary_ip = \"192.168.0.1/24\"\n",
    "primary_interface = \"Loopback0\"\n",
    "location = \"default-site\"\n",
    "device_type = \"iosv\"\n",
    "platform = \"ios\""
   ]
  },
  {
   "cell_type": "markdown",
   "id": "fae13df6-16e4-4a10-b89e-cf767e2b4e5d",
   "metadata": {
    "editable": false,
    "slideshow": {
     "slide_type": ""
    },
    "tags": []
   },
   "source": [
    "## optional settings\n",
    "* to add custom_fields use the syntax {'field_name': value}\n",
    "* to add tags add your tags to the list (eg. tags = ['test'])"
   ]
  },
  {
   "cell_type": "code",
   "execution_count": null,
   "id": "752b3bb4-8bb1-42fd-82ad-7849d3630acc",
   "metadata": {},
   "outputs": [],
   "source": [
    "custom_fields = {}\n",
    "tags = []"
   ]
  },
  {
   "cell_type": "markdown",
   "id": "8ee63b75-575d-48d5-806d-f84bee637300",
   "metadata": {
    "editable": false,
    "slideshow": {
     "slide_type": ""
    },
    "tags": []
   },
   "source": [
    "## you can overwrite or set any other property of your device"
   ]
  },
  {
   "cell_type": "code",
   "execution_count": null,
   "id": "45542b5d-e11c-438c-8917-ae0717292d7b",
   "metadata": {},
   "outputs": [],
   "source": [
    "device_properties = {\n",
    "    'name': device_name,\n",
    "    'location': {'name': location},\n",
    "    'status': {'name': 'Active'},\n",
    "    'serial': 'unknown',\n",
    "    'role': {'name': 'network'},\n",
    "    'device_type': {'model': device_type},\n",
    "    'platform': {'name': platform},\n",
    "    'custom_fields': custom_fields,\n",
    "    'tags': tags\n",
    "}\n",
    "\n",
    "interface_properties = [\n",
    "    {'name': primary_interface,\n",
    "     'ip_addresses': [{'address': primary_ip,\n",
    "                       'status': {'name': 'Active'}\n",
    "                      }],\n",
    "     'description': 'Primary Interface',\n",
    "     'type': '1000base-t',\n",
    "     'status': {'name': 'Active'} \n",
    "    }\n",
    "]\n",
    "vlan_properties = {}\n",
    "primary_interface = primary_interface"
   ]
  },
  {
   "cell_type": "markdown",
   "id": "42a3b2ad-7cc2-4101-aa0d-09466c947a69",
   "metadata": {
    "editable": false,
    "slideshow": {
     "slide_type": ""
    },
    "tags": []
   },
   "source": [
    "## set loglevel"
   ]
  },
  {
   "cell_type": "code",
   "execution_count": null,
   "id": "f3288a6b-7082-474d-9573-0e5dc73f4680",
   "metadata": {},
   "outputs": [],
   "source": [
    "loglevel = \"INFO\""
   ]
  },
  {
   "cell_type": "markdown",
   "id": "ad36383b-c809-47a5-a3da-2e6ed8935402",
   "metadata": {
    "editable": false,
    "slideshow": {
     "slide_type": ""
    },
    "tags": []
   },
   "source": [
    "# basic setup, import and logging"
   ]
  },
  {
   "cell_type": "code",
   "execution_count": null,
   "id": "36ff5890-ea76-4e68-8817-4150e9f743b1",
   "metadata": {
    "editable": false,
    "jupyter": {
     "source_hidden": true
    },
    "slideshow": {
     "slide_type": ""
    },
    "tags": []
   },
   "outputs": [],
   "source": [
    "import sys\n",
    "from loguru import logger\n",
    "from veritas.sot import sot as veritas_sot\n",
    "from IPython.display import display, Markdown, JSON"
   ]
  },
  {
   "cell_type": "markdown",
   "id": "9127bbd6-a2c1-4095-bc00-800c518b9119",
   "metadata": {
    "editable": false,
    "slideshow": {
     "slide_type": ""
    },
    "tags": []
   },
   "source": [
    "## configure logger output"
   ]
  },
  {
   "cell_type": "code",
   "execution_count": null,
   "id": "c6d90dcf-45df-4d50-98a7-5eb06075be54",
   "metadata": {
    "editable": false,
    "jupyter": {
     "source_hidden": true
    },
    "slideshow": {
     "slide_type": ""
    },
    "tags": []
   },
   "outputs": [],
   "source": [
    "logger.configure(extra={\"extra\": \"unset\"})\n",
    "logger.remove()\n",
    "logger.add(sys.stderr, level=loglevel)"
   ]
  },
  {
   "cell_type": "markdown",
   "id": "9da1b96c-b0eb-4249-8b70-58588593aaf4",
   "metadata": {
    "editable": false,
    "slideshow": {
     "slide_type": ""
    },
    "tags": []
   },
   "source": [
    "## initialize our sot"
   ]
  },
  {
   "cell_type": "code",
   "execution_count": null,
   "id": "a1f09c3d-40eb-45c6-b49d-2bca232738e2",
   "metadata": {
    "editable": false,
    "slideshow": {
     "slide_type": ""
    },
    "tags": []
   },
   "outputs": [],
   "source": [
    "sot = veritas_sot.Sot(token=token, url=url, ssl_verify=ssl_verify)"
   ]
  },
  {
   "cell_type": "markdown",
   "id": "1b102c17-c922-4083-9805-411fdf24ab44",
   "metadata": {
    "editable": false,
    "slideshow": {
     "slide_type": ""
    },
    "tags": []
   },
   "source": [
    "# Onboard device"
   ]
  },
  {
   "cell_type": "code",
   "execution_count": null,
   "id": "7be4287d-825c-4ec7-8351-6d749a4d7be7",
   "metadata": {
    "editable": false,
    "jupyter": {
     "source_hidden": true
    },
    "slideshow": {
     "slide_type": ""
    },
    "tags": []
   },
   "outputs": [],
   "source": [
    "already_there = new_device = sot.get.device(name=device_name)\n",
    "if not already_there:\n",
    "    new_device = sot.onboarding \\\n",
    "                .interfaces(interface_properties) \\\n",
    "                .vlans(vlan_properties) \\\n",
    "                .primary_interface(primary_interface) \\\n",
    "                .add_prefix(False) \\\n",
    "                .add_device(device_properties)\n",
    "    if new_device:\n",
    "        display(f'{new_device.name} added successfully')\n",
    "    else:\n",
    "        display(f'onboarding failed')\n",
    "else:\n",
    "    display(f'found {device_name} in sot.')"
   ]
  },
  {
   "cell_type": "markdown",
   "id": "2145a520-eaf8-460a-864a-453f7169ee51",
   "metadata": {
    "editable": false,
    "slideshow": {
     "slide_type": ""
    },
    "tags": []
   },
   "source": [
    "# Further Information\n",
    "___just needed to get a list of roles, device types and so on___"
   ]
  },
  {
   "cell_type": "markdown",
   "id": "4b427c21-07ab-4231-a20e-a4bbcd1c6094",
   "metadata": {
    "editable": false,
    "slideshow": {
     "slide_type": ""
    },
    "tags": []
   },
   "source": [
    "### show all device types"
   ]
  },
  {
   "cell_type": "code",
   "execution_count": null,
   "id": "07877ac7-f21b-4ebd-bed0-6fb37be3ba75",
   "metadata": {
    "editable": false,
    "slideshow": {
     "slide_type": ""
    },
    "tags": []
   },
   "outputs": [],
   "source": [
    "display(sot.get.all_device_types(get_list=True))"
   ]
  },
  {
   "cell_type": "markdown",
   "id": "3df2c243-88a0-421d-bedb-5e3c5ac3a640",
   "metadata": {
    "editable": false,
    "slideshow": {
     "slide_type": ""
    },
    "tags": []
   },
   "source": [
    "### show all platforms"
   ]
  },
  {
   "cell_type": "code",
   "execution_count": null,
   "id": "786714ff-85c7-4945-9b72-dcd098ef5788",
   "metadata": {
    "editable": false,
    "slideshow": {
     "slide_type": ""
    },
    "tags": []
   },
   "outputs": [],
   "source": [
    "display(sot.get.all_platforms(get_list=True))"
   ]
  },
  {
   "cell_type": "markdown",
   "id": "48aa0a5e-29dc-40aa-bc35-5703befbfc8e",
   "metadata": {
    "editable": false,
    "slideshow": {
     "slide_type": ""
    },
    "tags": []
   },
   "source": [
    "### show all locations (list)\n",
    "* set location type to your need or None to see all\n",
    "* The output is a condensed list of your locations"
   ]
  },
  {
   "cell_type": "code",
   "execution_count": null,
   "id": "92e7b5d1-1fd3-4ce1-8056-5e2529719d8a",
   "metadata": {
    "editable": true,
    "slideshow": {
     "slide_type": ""
    },
    "tags": []
   },
   "outputs": [],
   "source": [
    "sot.get.all_locations(get_list=True, location_type='ast')"
   ]
  },
  {
   "cell_type": "markdown",
   "id": "11b7f2e0-3f74-4887-b87f-40d94a4e7f7b",
   "metadata": {
    "editable": false,
    "slideshow": {
     "slide_type": ""
    },
    "tags": []
   },
   "source": [
    "### show all locations (extended output)\n",
    "* set location type to your need or None to see all\n",
    "* This output is only useful if your number of locations is low"
   ]
  },
  {
   "cell_type": "code",
   "execution_count": null,
   "id": "0ac2d1b7-4f56-4c96-9fab-e234be8b2680",
   "metadata": {
    "editable": true,
    "slideshow": {
     "slide_type": ""
    },
    "tags": []
   },
   "outputs": [],
   "source": [
    "import pandas as pd\n",
    "locations = sot.get.all_locations(get_list=False, location_type=None)\n",
    "df = pd.DataFrame(locations)\n",
    "df"
   ]
  }
 ],
 "metadata": {
  "kernelspec": {
   "display_name": "Python 3 (ipykernel)",
   "language": "python",
   "name": "python3"
  },
  "language_info": {
   "codemirror_mode": {
    "name": "ipython",
    "version": 3
   },
   "file_extension": ".py",
   "mimetype": "text/x-python",
   "name": "python",
   "nbconvert_exporter": "python",
   "pygments_lexer": "ipython3",
   "version": "3.11.7"
  }
 },
 "nbformat": 4,
 "nbformat_minor": 5
}
