{
 "cells": [
  {
   "cell_type": "markdown",
   "id": "8b0f74ba-a78d-4ac4-abe1-0ddec19388a7",
   "metadata": {},
   "source": [
    "# Show details of Journals, Activities, Messages and Logs"
   ]
  },
  {
   "cell_type": "code",
   "execution_count": null,
   "id": "951e8c3c-5161-4fb6-ae1c-883e7638049e",
   "metadata": {},
   "outputs": [],
   "source": [
    "import pandas as pd\n",
    "from loguru import logger\n",
    "from veritas.journal import journal\n",
    "from IPython.display import display, HTML\n",
    "\n",
    "# init Journal\n",
    "jrnl = journal.Journal()\n",
    "\n",
    "# define (log) columns to display\n",
    "cols = ['id', 'app', 'date', 'levelname', 'module', 'message']"
   ]
  },
  {
   "cell_type": "markdown",
   "id": "a9a5429b-c7ad-4ea7-afe9-cc11b87f3188",
   "metadata": {},
   "source": [
    "# list journals"
   ]
  },
  {
   "cell_type": "code",
   "execution_count": null,
   "id": "f65b8415-34d5-4650-9f7f-58493bec7bf4",
   "metadata": {},
   "outputs": [],
   "source": [
    "active_journals = jrnl.get_active_journals(status='active')\n",
    "df = pd.DataFrame(active_journals)\n",
    "display(HTML(df.to_html(header=True, index=True)))"
   ]
  },
  {
   "cell_type": "markdown",
   "id": "3e5898b7-41fc-4c0a-888f-89a158d6ab81",
   "metadata": {},
   "source": [
    "# Activities"
   ]
  },
  {
   "cell_type": "code",
   "execution_count": null,
   "id": "61989fc7-e589-44d1-a22f-4a438c0a2607",
   "metadata": {},
   "outputs": [],
   "source": [
    "journal_uuid = '2fb44cd7-1a7e-4fea-b25d-37c772a85e1f'"
   ]
  },
  {
   "cell_type": "code",
   "execution_count": null,
   "id": "14ffdde6-aefb-49fb-a9aa-636c2b497241",
   "metadata": {},
   "outputs": [],
   "source": [
    "activities = jrnl.get_activities(uuid=journal_uuid)\n",
    "df = pd.DataFrame(activities)\n",
    "display(HTML(df.to_html(header=True, index=True)))"
   ]
  },
  {
   "cell_type": "markdown",
   "id": "08bd3d3e-abe5-4b55-89ab-0cad7f89d41e",
   "metadata": {},
   "source": [
    "# Messages"
   ]
  },
  {
   "cell_type": "code",
   "execution_count": null,
   "id": "f6bdda6b-8c5a-4e74-abda-6280b15febb2",
   "metadata": {},
   "outputs": [],
   "source": [
    "messages = jrnl.get_messages(uuid=journal_uuid)\n",
    "df = pd.DataFrame(messages)\n",
    "display(HTML(df.to_html(header=True, index=True)))"
   ]
  },
  {
   "cell_type": "markdown",
   "id": "00f660f5-bf85-4706-a9ab-d95a9efa7e35",
   "metadata": {},
   "source": [
    "# Logs of a specifify activity"
   ]
  },
  {
   "cell_type": "code",
   "execution_count": null,
   "id": "32c8566a-1f6f-4b1c-be3b-25ed9a9a612a",
   "metadata": {},
   "outputs": [],
   "source": [
    "activity_uuid = '2fb44cd7-1a7e-4fea-b25d-37c772a85e1f'"
   ]
  },
  {
   "cell_type": "code",
   "execution_count": null,
   "id": "f0197f66-751d-465e-a563-003f7645c304",
   "metadata": {
    "scrolled": true
   },
   "outputs": [],
   "source": [
    "logs = jrnl.get_logs(uuid=activity_uuid, cols=cols)\n",
    "df = pd.DataFrame(logs)\n",
    "display(HTML(df.to_html(header=True, index=True)))"
   ]
  },
  {
   "cell_type": "markdown",
   "id": "c8a73d4f-1596-4466-bb61-909bbe7105ac",
   "metadata": {},
   "source": [
    "# All logs"
   ]
  },
  {
   "cell_type": "code",
   "execution_count": null,
   "id": "fc4d824b-b999-418e-961c-27a1e7b8c249",
   "metadata": {},
   "outputs": [],
   "source": [
    "for activity in activities:\n",
    "    activity_uuid = activity.get('activity_uuid')\n",
    "    activity_name = activity.get('activity')\n",
    "    logs = jrnl.get_logs(uuid=activity_uuid, cols=cols)\n",
    "    if logs:\n",
    "        df = pd.DataFrame(logs)\n",
    "        display(HTML(df.to_html(header=True, index=True)))"
   ]
  }
 ],
 "metadata": {
  "kernelspec": {
   "display_name": "Python 3 (ipykernel)",
   "language": "python",
   "name": "python3"
  },
  "language_info": {
   "codemirror_mode": {
    "name": "ipython",
    "version": 3
   },
   "file_extension": ".py",
   "mimetype": "text/x-python",
   "name": "python",
   "nbconvert_exporter": "python",
   "pygments_lexer": "ipython3",
   "version": "3.11.7"
  }
 },
 "nbformat": 4,
 "nbformat_minor": 5
}
